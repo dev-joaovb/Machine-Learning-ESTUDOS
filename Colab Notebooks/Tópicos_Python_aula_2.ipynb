{
  "nbformat": 4,
  "nbformat_minor": 0,
  "metadata": {
    "colab": {
      "name": "Tópicos Python aula 2.ipynb",
      "provenance": [],
      "collapsed_sections": []
    },
    "kernelspec": {
      "name": "python3",
      "display_name": "Python 3"
    }
  },
  "cells": [
    {
      "cell_type": "markdown",
      "metadata": {
        "id": "ZJQ3QFpV6SQS"
      },
      "source": [
        "![](https://ucb.catolica.edu.br/portal/wp-content/uploads/2021/06/catolica-de-brasilia.svg)\n",
        "\n",
        "## Aula 2 - Manipulando coleções de dados\n",
        "\n",
        "A análise de dados se faz em coleções, onde uma estrutura única armazena os valores de uma quantidade finita, mas potencialmente grande, de dados de um mesmo tipo (de forma geral). Cada exemplar de uma coleção é chamado de **instância**.\n",
        "\n",
        "Os dados na forma de coleção são muito úteis pois permitem o processamento de grandes quantidades de instâncias com um mesmo trecho de script, contido dentro de um loop.\n",
        "\n",
        "Nessa aula aprenderemos os conceitos básicos de criação e manipilação de coleções."
      ]
    },
    {
      "cell_type": "markdown",
      "metadata": {
        "id": "2fVHIxLJDh96"
      },
      "source": [
        "## Listas\n",
        "\n",
        "Listas, ou objetos do tipo list, são utilizados para representar sequências de itens. As listas podem ser criadas explicitamente no script.\n",
        "\n",
        "Alguns exemplos:"
      ]
    },
    {
      "cell_type": "code",
      "metadata": {
        "id": "bnMVutr66Yuj"
      },
      "source": [
        "# declaração de uma lista vazia\n",
        "lista_vazia = []\n",
        " \n",
        "# lista de compras\n",
        "lista_de_compras = ['maçã', 'banana', 'laranja']\n",
        " \n",
        "# aposta na mega sena\n",
        "aposta_mega_sena = [6, 14, 19, 20, 39, 53]\n",
        " \n"
      ],
      "execution_count": null,
      "outputs": []
    },
    {
      "cell_type": "code",
      "metadata": {
        "id": "vgeheKWcAzgu",
        "outputId": "c7a9d985-9163-457d-c9bc-7c54666105c7",
        "colab": {
          "base_uri": "https://localhost:8080/",
          "height": 34
        }
      },
      "source": [
        "type(aposta_mega_sena)"
      ],
      "execution_count": null,
      "outputs": [
        {
          "output_type": "execute_result",
          "data": {
            "text/plain": [
              "list"
            ]
          },
          "metadata": {
            "tags": []
          },
          "execution_count": 2
        }
      ]
    },
    {
      "cell_type": "code",
      "metadata": {
        "id": "gj1NQV1OBFy4",
        "outputId": "8d953734-9291-49a5-db0e-86c65cbeef3f",
        "colab": {
          "base_uri": "https://localhost:8080/",
          "height": 34
        }
      },
      "source": [
        "type(aposta_mega_sena[0])"
      ],
      "execution_count": null,
      "outputs": [
        {
          "output_type": "execute_result",
          "data": {
            "text/plain": [
              "int"
            ]
          },
          "metadata": {
            "tags": []
          },
          "execution_count": 4
        }
      ]
    },
    {
      "cell_type": "code",
      "source": [
        "x = [1,'a']"
      ],
      "metadata": {
        "id": "epIDqYyGpmVH"
      },
      "execution_count": 1,
      "outputs": []
    },
    {
      "cell_type": "code",
      "source": [
        "type(x[0])"
      ],
      "metadata": {
        "colab": {
          "base_uri": "https://localhost:8080/"
        },
        "id": "KTQu1AcPqDQG",
        "outputId": "1c9ff252-9448-4c7d-bd80-f66ca91a0705"
      },
      "execution_count": 4,
      "outputs": [
        {
          "output_type": "execute_result",
          "data": {
            "text/plain": [
              "int"
            ]
          },
          "metadata": {},
          "execution_count": 4
        }
      ]
    },
    {
      "cell_type": "code",
      "source": [
        "type(x[1])"
      ],
      "metadata": {
        "colab": {
          "base_uri": "https://localhost:8080/"
        },
        "id": "DTSKm9uZpt5j",
        "outputId": "d1aed016-8257-4d33-ed3c-07bc948e71df"
      },
      "execution_count": 3,
      "outputs": [
        {
          "output_type": "execute_result",
          "data": {
            "text/plain": [
              "str"
            ]
          },
          "metadata": {},
          "execution_count": 3
        }
      ]
    },
    {
      "cell_type": "markdown",
      "metadata": {
        "id": "Wyc9ofNiClJd"
      },
      "source": [
        "Observação: uma lista pode conter instâncias de tipos diferentes."
      ]
    },
    {
      "cell_type": "markdown",
      "metadata": {
        "id": "Ogsi6DCLE83W"
      },
      "source": [
        "Cada dado de um conjunto sequencial é rapidamente acessível através de índices. A primeira posição é acessível utilizando o índice 0."
      ]
    },
    {
      "cell_type": "code",
      "metadata": {
        "id": "hGD8PEMS6Bmh",
        "outputId": "96f78a8c-8034-473a-cb2c-1d01b3161cae",
        "colab": {
          "base_uri": "https://localhost:8080/",
          "height": 34
        }
      },
      "source": [
        "lista_de_compras[1]"
      ],
      "execution_count": null,
      "outputs": [
        {
          "output_type": "execute_result",
          "data": {
            "text/plain": [
              "'banana'"
            ]
          },
          "metadata": {
            "tags": []
          },
          "execution_count": 3
        }
      ]
    },
    {
      "cell_type": "markdown",
      "metadata": {
        "id": "4WLqUVrNFYO2"
      },
      "source": [
        "É possível também utilizar o índice para indicar uma posição a partir do final da lista em direção ao seu início. Para isso deve-se utilizar um índice negativo, com o -1 indicando a última posição da lista."
      ]
    },
    {
      "cell_type": "code",
      "metadata": {
        "id": "Bi2gWCaiFLCr",
        "outputId": "6e230cbe-d402-4a4e-b1b7-b23078da79f1",
        "colab": {
          "base_uri": "https://localhost:8080/",
          "height": 34
        }
      },
      "source": [
        "lista_de_compras[-2]"
      ],
      "execution_count": null,
      "outputs": [
        {
          "output_type": "execute_result",
          "data": {
            "text/plain": [
              "'banana'"
            ]
          },
          "metadata": {
            "tags": []
          },
          "execution_count": 5
        }
      ]
    },
    {
      "cell_type": "markdown",
      "metadata": {
        "id": "6-1UuRlSF529"
      },
      "source": [
        "Para saber o número de elementos de uma lista utilize o comando *len*:"
      ]
    },
    {
      "cell_type": "code",
      "metadata": {
        "id": "PnyLjZuQFt-z",
        "outputId": "f6abdf7a-476f-4493-9482-d8b1669aa574",
        "colab": {
          "base_uri": "https://localhost:8080/",
          "height": 34
        }
      },
      "source": [
        "len(aposta_mega_sena)"
      ],
      "execution_count": null,
      "outputs": [
        {
          "output_type": "execute_result",
          "data": {
            "text/plain": [
              "6"
            ]
          },
          "metadata": {
            "tags": []
          },
          "execution_count": 6
        }
      ]
    },
    {
      "cell_type": "markdown",
      "metadata": {
        "id": "JIR96OreLpSr"
      },
      "source": [
        "A última posição de uma lista tem como índice o seu comprimento -1, pois a primeira posição é a 0: (note que o uso de um índice além desse valor gerará um erro)"
      ]
    },
    {
      "cell_type": "code",
      "metadata": {
        "id": "shWVmvJmLzrE",
        "outputId": "2124b944-09e8-4451-b6b5-1b0ffd37405f",
        "colab": {
          "base_uri": "https://localhost:8080/",
          "height": 164
        }
      },
      "source": [
        "aposta_mega_sena[6]\n"
      ],
      "execution_count": null,
      "outputs": [
        {
          "output_type": "error",
          "ename": "IndexError",
          "evalue": "ignored",
          "traceback": [
            "\u001b[0;31m---------------------------------------------------------------------------\u001b[0m",
            "\u001b[0;31mIndexError\u001b[0m                                Traceback (most recent call last)",
            "\u001b[0;32m<ipython-input-8-e9804fea36ac>\u001b[0m in \u001b[0;36m<module>\u001b[0;34m()\u001b[0m\n\u001b[0;32m----> 1\u001b[0;31m \u001b[0maposta_mega_sena\u001b[0m\u001b[0;34m[\u001b[0m\u001b[0;36m6\u001b[0m\u001b[0;34m]\u001b[0m\u001b[0;34m\u001b[0m\u001b[0;34m\u001b[0m\u001b[0m\n\u001b[0m",
            "\u001b[0;31mIndexError\u001b[0m: list index out of range"
          ]
        }
      ]
    },
    {
      "cell_type": "markdown",
      "metadata": {
        "id": "vIj51YB59bNc"
      },
      "source": [
        "## Exercício 0\n",
        "\n",
        "Crie sua própria lista e acesse seus elementos (nos exemplos mostrado nesse caderno reproduza-os usando sua própria lista)."
      ]
    },
    {
      "cell_type": "code",
      "metadata": {
        "id": "hdLGtwnVGQM8"
      },
      "source": [
        ""
      ],
      "execution_count": null,
      "outputs": []
    },
    {
      "cell_type": "markdown",
      "metadata": {
        "id": "0FoXJlZGBBxI"
      },
      "source": [
        "O índice pode ser usado também para alterar o valor de uma instância:"
      ]
    },
    {
      "cell_type": "code",
      "metadata": {
        "id": "_lwWcA9jBA7a",
        "outputId": "af5ae6a4-f7e7-48a8-8ab9-a7efffabdef0",
        "colab": {
          "base_uri": "https://localhost:8080/",
          "height": 51
        }
      },
      "source": [
        "print(aposta_mega_sena)\n",
        "aposta_mega_sena[5] = 40\n",
        "print(aposta_mega_sena)"
      ],
      "execution_count": null,
      "outputs": [
        {
          "output_type": "stream",
          "text": [
            "[6, 14, 19, 20, 39, 53]\n",
            "[6, 14, 19, 20, 39, 40]\n"
          ],
          "name": "stdout"
        }
      ]
    },
    {
      "cell_type": "markdown",
      "source": [
        "Só posições já definidas podem ser alteradas:"
      ],
      "metadata": {
        "id": "-1VoF9gDp_m7"
      }
    },
    {
      "cell_type": "code",
      "metadata": {
        "id": "5HFk9IRuCEYM",
        "outputId": "f187966c-ba6a-462a-b591-2adb2a071c41",
        "colab": {
          "base_uri": "https://localhost:8080/",
          "height": 164
        }
      },
      "source": [
        "lista_vazia[0]=1"
      ],
      "execution_count": null,
      "outputs": [
        {
          "output_type": "error",
          "ename": "IndexError",
          "evalue": "ignored",
          "traceback": [
            "\u001b[0;31m---------------------------------------------------------------------------\u001b[0m",
            "\u001b[0;31mIndexError\u001b[0m                                Traceback (most recent call last)",
            "\u001b[0;32m<ipython-input-10-92f2019d1005>\u001b[0m in \u001b[0;36m<module>\u001b[0;34m()\u001b[0m\n\u001b[0;32m----> 1\u001b[0;31m \u001b[0mlista_vazia\u001b[0m\u001b[0;34m[\u001b[0m\u001b[0;36m0\u001b[0m\u001b[0;34m]\u001b[0m\u001b[0;34m=\u001b[0m\u001b[0;36m1\u001b[0m\u001b[0;34m\u001b[0m\u001b[0;34m\u001b[0m\u001b[0m\n\u001b[0m",
            "\u001b[0;31mIndexError\u001b[0m: list assignment index out of range"
          ]
        }
      ]
    },
    {
      "cell_type": "markdown",
      "metadata": {
        "id": "4IGJIAHtNEcJ"
      },
      "source": [
        "Algumas operações comuns com listas:\n",
        "\n",
        "- x in v: se o item x está na lista v retorna True, senão False\n",
        "- x not in v: se o item x está na lista v retorna False, senão True\n",
        "- t + v: concatena as lista t e v\n",
        "- v[i:j]: retorna uma sublista da posição i até a j (não inclui a posição j)\n",
        "- min(v): retorna o menor elemeto da lista v\n",
        "- max(v): retorna o maior elemeto da lista v"
      ]
    },
    {
      "cell_type": "code",
      "metadata": {
        "id": "6V3Hmm21Nda5",
        "outputId": "7574310c-3f25-49da-b665-650c268f22b9",
        "colab": {
          "base_uri": "https://localhost:8080/",
          "height": 34
        }
      },
      "source": [
        "222 in aposta_mega_sena"
      ],
      "execution_count": null,
      "outputs": [
        {
          "output_type": "execute_result",
          "data": {
            "text/plain": [
              "False"
            ]
          },
          "metadata": {
            "tags": []
          },
          "execution_count": 12
        }
      ]
    },
    {
      "cell_type": "code",
      "metadata": {
        "id": "sVBiPDMjNkEA",
        "outputId": "a0771892-3295-44cc-80bc-6c26a8720f97",
        "colab": {
          "base_uri": "https://localhost:8080/",
          "height": 51
        }
      },
      "source": [
        "print(aposta_mega_sena)\n",
        "aposta_mega_sena[2:4]"
      ],
      "execution_count": null,
      "outputs": [
        {
          "output_type": "stream",
          "text": [
            "[6, 14, 19, 20, 39, 40]\n"
          ],
          "name": "stdout"
        },
        {
          "output_type": "execute_result",
          "data": {
            "text/plain": [
              "[19, 20]"
            ]
          },
          "metadata": {
            "tags": []
          },
          "execution_count": 13
        }
      ]
    },
    {
      "cell_type": "code",
      "metadata": {
        "id": "PoH87bMFNssI"
      },
      "source": [
        "mini_aposta = aposta_mega_sena[1:-1]"
      ],
      "execution_count": null,
      "outputs": []
    },
    {
      "cell_type": "code",
      "metadata": {
        "id": "niX39fL0427G",
        "colab": {
          "base_uri": "https://localhost:8080/",
          "height": 34
        },
        "outputId": "2b21da97-6e55-434f-b9ac-09afb4a1531e"
      },
      "source": [
        "mini_aposta"
      ],
      "execution_count": null,
      "outputs": [
        {
          "output_type": "execute_result",
          "data": {
            "text/plain": [
              "[14, 19, 20, 39]"
            ]
          },
          "metadata": {
            "tags": []
          },
          "execution_count": 21
        }
      ]
    },
    {
      "cell_type": "code",
      "metadata": {
        "id": "hXNstv8ATqCa",
        "outputId": "f603a761-8cd1-42ae-bf1b-46509aa5a7c7",
        "colab": {
          "base_uri": "https://localhost:8080/",
          "height": 34
        }
      },
      "source": [
        "aposta_mega_sena[:]"
      ],
      "execution_count": null,
      "outputs": [
        {
          "output_type": "execute_result",
          "data": {
            "text/plain": [
              "[6, 14, 19, 20, 39, 40]"
            ]
          },
          "metadata": {
            "tags": []
          },
          "execution_count": 17
        }
      ]
    },
    {
      "cell_type": "code",
      "metadata": {
        "id": "9CTwlpJ-N_4g"
      },
      "source": [
        "nova = lista_de_compras + aposta_mega_sena"
      ],
      "execution_count": null,
      "outputs": []
    },
    {
      "cell_type": "code",
      "metadata": {
        "id": "Mtmtn3TX5HPM",
        "colab": {
          "base_uri": "https://localhost:8080/",
          "height": 34
        },
        "outputId": "7916e564-a9a2-40f8-bc3d-beeca0f4ffa5"
      },
      "source": [
        "nova"
      ],
      "execution_count": null,
      "outputs": [
        {
          "output_type": "execute_result",
          "data": {
            "text/plain": [
              "['maçã', 'banana', 'laranja', 6, 14, 19, 20, 39, 40]"
            ]
          },
          "metadata": {
            "tags": []
          },
          "execution_count": 27
        }
      ]
    },
    {
      "cell_type": "code",
      "metadata": {
        "id": "HdGw7C1R48sO",
        "colab": {
          "base_uri": "https://localhost:8080/",
          "height": 34
        },
        "outputId": "18dd49a5-15f6-4e80-b590-bd213771c506"
      },
      "source": [
        "type(nova[5])"
      ],
      "execution_count": null,
      "outputs": [
        {
          "output_type": "execute_result",
          "data": {
            "text/plain": [
              "int"
            ]
          },
          "metadata": {
            "tags": []
          },
          "execution_count": 26
        }
      ]
    },
    {
      "cell_type": "code",
      "metadata": {
        "id": "82pPOv4t4nWU",
        "colab": {
          "base_uri": "https://localhost:8080/",
          "height": 34
        },
        "outputId": "d06de4b0-7813-4883-cc6b-fdb32e9545ad"
      },
      "source": [
        "type(lista_de_compras[0])"
      ],
      "execution_count": null,
      "outputs": [
        {
          "output_type": "execute_result",
          "data": {
            "text/plain": [
              "str"
            ]
          },
          "metadata": {
            "tags": []
          },
          "execution_count": 19
        }
      ]
    },
    {
      "cell_type": "code",
      "metadata": {
        "id": "apIgHbenOGa4",
        "outputId": "46079e16-25ee-4823-c446-9384fef22681",
        "colab": {
          "base_uri": "https://localhost:8080/",
          "height": 164
        }
      },
      "source": [
        "max(nova)"
      ],
      "execution_count": null,
      "outputs": [
        {
          "output_type": "error",
          "ename": "TypeError",
          "evalue": "ignored",
          "traceback": [
            "\u001b[0;31m---------------------------------------------------------------------------\u001b[0m",
            "\u001b[0;31mTypeError\u001b[0m                                 Traceback (most recent call last)",
            "\u001b[0;32m<ipython-input-31-93fa385a24c6>\u001b[0m in \u001b[0;36m<module>\u001b[0;34m()\u001b[0m\n\u001b[0;32m----> 1\u001b[0;31m \u001b[0mmax\u001b[0m\u001b[0;34m(\u001b[0m\u001b[0mnova\u001b[0m\u001b[0;34m)\u001b[0m\u001b[0;34m\u001b[0m\u001b[0;34m\u001b[0m\u001b[0m\n\u001b[0m",
            "\u001b[0;31mTypeError\u001b[0m: '>' not supported between instances of 'int' and 'str'"
          ]
        }
      ]
    },
    {
      "cell_type": "markdown",
      "metadata": {
        "id": "jV6ELjtcOLHv"
      },
      "source": [
        "Note que a comparação de ordem de dados em formato texto é feita pela ordem lexicográfica:"
      ]
    },
    {
      "cell_type": "code",
      "metadata": {
        "id": "INztu9xwOYdv",
        "outputId": "0243e6c0-7992-4b62-ee4d-b165e9513b3a",
        "colab": {
          "base_uri": "https://localhost:8080/",
          "height": 34
        }
      },
      "source": [
        "'carrovvvvvv' < 'casa'"
      ],
      "execution_count": null,
      "outputs": [
        {
          "output_type": "execute_result",
          "data": {
            "text/plain": [
              "True"
            ]
          },
          "metadata": {
            "tags": []
          },
          "execution_count": 34
        }
      ]
    },
    {
      "cell_type": "markdown",
      "metadata": {
        "id": "Vs2HT0XZGqPR"
      },
      "source": [
        "Comparação de ordem não deve ser feita entre instâncias de tipos diferentes!"
      ]
    },
    {
      "cell_type": "code",
      "metadata": {
        "id": "JvIKLFBsGZx3",
        "outputId": "9330985f-1efe-4a61-982b-bf7224ef5e22",
        "colab": {
          "base_uri": "https://localhost:8080/",
          "height": 164
        }
      },
      "source": [
        "1 > 'carro'"
      ],
      "execution_count": null,
      "outputs": [
        {
          "output_type": "error",
          "ename": "TypeError",
          "evalue": "ignored",
          "traceback": [
            "\u001b[0;31m---------------------------------------------------------------------------\u001b[0m",
            "\u001b[0;31mTypeError\u001b[0m                                 Traceback (most recent call last)",
            "\u001b[0;32m<ipython-input-30-d16f7dd34d94>\u001b[0m in \u001b[0;36m<module>\u001b[0;34m()\u001b[0m\n\u001b[0;32m----> 1\u001b[0;31m \u001b[0;36m1\u001b[0m \u001b[0;34m>\u001b[0m \u001b[0;34m'carro'\u001b[0m\u001b[0;34m\u001b[0m\u001b[0;34m\u001b[0m\u001b[0m\n\u001b[0m",
            "\u001b[0;31mTypeError\u001b[0m: '>' not supported between instances of 'int' and 'str'"
          ]
        }
      ]
    },
    {
      "cell_type": "markdown",
      "metadata": {
        "id": "8ozq-XiuC-n3"
      },
      "source": [
        "É possível \"multiplicar\" uma lista por um inteiro, o que corresponde a concatenar uma lista com ela mesma várias vezes:"
      ]
    },
    {
      "cell_type": "code",
      "metadata": {
        "id": "mn8dzGyFC_GI",
        "outputId": "7d2e1481-58a5-4d6c-dfaa-f6e68ddef871",
        "colab": {
          "base_uri": "https://localhost:8080/",
          "height": 34
        }
      },
      "source": [
        "aposta_mega_sena * 3"
      ],
      "execution_count": null,
      "outputs": [
        {
          "output_type": "execute_result",
          "data": {
            "text/plain": [
              "[6, 14, 19, 20, 39, 40, 6, 14, 19, 20, 39, 40, 6, 14, 19, 20, 39, 40]"
            ]
          },
          "metadata": {
            "tags": []
          },
          "execution_count": 32
        }
      ]
    },
    {
      "cell_type": "markdown",
      "metadata": {
        "id": "30swVSaSTx6H"
      },
      "source": [
        "## Exercício 1:\n",
        "\n",
        "Crie um nova lista concatenando a segunda metade da lista aposta_mega_sena com a primeira metade da lista lista_de_compras."
      ]
    },
    {
      "cell_type": "code",
      "metadata": {
        "id": "oeFzegHwUWc7",
        "colab": {
          "base_uri": "https://localhost:8080/",
          "height": 34
        },
        "outputId": "6b136644-14c9-4ae8-a44b-8489cf42b869"
      },
      "source": [
        "aposta_mega_sena[3:6]+lista_de_compras[0:1]"
      ],
      "execution_count": null,
      "outputs": [
        {
          "output_type": "execute_result",
          "data": {
            "text/plain": [
              "[20, 39, 40, 'maçã']"
            ]
          },
          "metadata": {
            "tags": []
          },
          "execution_count": 35
        }
      ]
    },
    {
      "cell_type": "code",
      "metadata": {
        "id": "evAVAvLr7ZwB",
        "colab": {
          "base_uri": "https://localhost:8080/",
          "height": 34
        },
        "outputId": "c45fad56-8138-4f9c-d91d-24d0f5cb6b6b"
      },
      "source": [
        "aposta_mega_sena"
      ],
      "execution_count": null,
      "outputs": [
        {
          "output_type": "execute_result",
          "data": {
            "text/plain": [
              "[6, 14, 19, 20, 39, 40]"
            ]
          },
          "metadata": {
            "tags": []
          },
          "execution_count": 36
        }
      ]
    },
    {
      "cell_type": "code",
      "metadata": {
        "id": "Rc9TMDsk7rlU",
        "colab": {
          "base_uri": "https://localhost:8080/",
          "height": 34
        },
        "outputId": "5439eb83-2522-4c35-bdd5-792f424d4490"
      },
      "source": [
        "aposta_mega_sena [(len(aposta_mega_sena)//2):] + lista_de_compras [:(len(lista_de_compras)//2)] "
      ],
      "execution_count": null,
      "outputs": [
        {
          "output_type": "execute_result",
          "data": {
            "text/plain": [
              "[20, 39, 40, 'maçã']"
            ]
          },
          "metadata": {
            "tags": []
          },
          "execution_count": 39
        }
      ]
    },
    {
      "cell_type": "code",
      "metadata": {
        "id": "Dcr7tOFC8EzI"
      },
      "source": [
        "nova_lista = aposta_mega_sena [-int(len(aposta_mega_sena)/2):] + lista_de_compras [:int(len(lista_de_compras)/2)]"
      ],
      "execution_count": null,
      "outputs": []
    },
    {
      "cell_type": "code",
      "metadata": {
        "id": "hps2C0Nu8Lcd",
        "colab": {
          "base_uri": "https://localhost:8080/",
          "height": 34
        },
        "outputId": "479667c0-0983-4fa1-9ca1-226d0f6d05e8"
      },
      "source": [
        "nova_lista"
      ],
      "execution_count": null,
      "outputs": [
        {
          "output_type": "execute_result",
          "data": {
            "text/plain": [
              "[20, 39, 40, 'maçã']"
            ]
          },
          "metadata": {
            "tags": []
          },
          "execution_count": 43
        }
      ]
    },
    {
      "cell_type": "code",
      "metadata": {
        "id": "E2g1zqAD7coW",
        "colab": {
          "base_uri": "https://localhost:8080/",
          "height": 34
        },
        "outputId": "ce85650f-b72a-44f5-8577-4a90265f242b"
      },
      "source": [
        "lista_de_compras"
      ],
      "execution_count": null,
      "outputs": [
        {
          "output_type": "execute_result",
          "data": {
            "text/plain": [
              "['maçã', 'banana', 'laranja']"
            ]
          },
          "metadata": {
            "tags": []
          },
          "execution_count": 37
        }
      ]
    },
    {
      "cell_type": "markdown",
      "metadata": {
        "id": "XFDpsMukIinU"
      },
      "source": [
        "## Listas e loops:\n",
        "\n",
        "Estruturas sequenciais como as listas são ideiais para serem manipuladas por loops do tipo FOR. No exemplo abaixo a variável de controle do FOR é usada como índice para percorrer a coleção:"
      ]
    },
    {
      "cell_type": "code",
      "metadata": {
        "id": "HYfIXMXIGFax",
        "outputId": "d3e6030d-3b7d-411e-e449-24ce4412e91d",
        "colab": {
          "base_uri": "https://localhost:8080/",
          "height": 119
        }
      },
      "source": [
        "for i in range(0,len(aposta_mega_sena)):\n",
        "  print(\"Posição {} = {}\".format(i,aposta_mega_sena[i]))"
      ],
      "execution_count": null,
      "outputs": [
        {
          "output_type": "stream",
          "text": [
            "Posição 0 = 6\n",
            "Posição 1 = 14\n",
            "Posição 2 = 19\n",
            "Posição 3 = 20\n",
            "Posição 4 = 39\n",
            "Posição 5 = 40\n"
          ],
          "name": "stdout"
        }
      ]
    },
    {
      "cell_type": "markdown",
      "metadata": {
        "id": "A845xMKDKCpf"
      },
      "source": [
        "#### Considerações importantes:\n",
        "\n",
        "Note que a função *len()* foi utilizada para definir o intervalo de valores do índices de acesso à lista."
      ]
    },
    {
      "cell_type": "markdown",
      "metadata": {
        "id": "3cgaAzBVKovt"
      },
      "source": [
        "Outras versões da função *range()*:\n",
        "\n",
        "- um único atributo define o final do intervalo, sendo que o início é definido implicitamente como sendo 0:"
      ]
    },
    {
      "cell_type": "code",
      "metadata": {
        "id": "kVsd-yqcJ-19",
        "outputId": "c67972fa-229e-4d00-eab0-59d7439b8a4e",
        "colab": {
          "base_uri": "https://localhost:8080/",
          "height": 119
        }
      },
      "source": [
        "for i in range(len(aposta_mega_sena)):\n",
        "  print(\"Posição {} = {}\".format(i,aposta_mega_sena[i]))"
      ],
      "execution_count": null,
      "outputs": [
        {
          "output_type": "stream",
          "text": [
            "Posição 0 = 6\n",
            "Posição 1 = 14\n",
            "Posição 2 = 19\n",
            "Posição 3 = 20\n",
            "Posição 4 = 39\n",
            "Posição 5 = 53\n"
          ],
          "name": "stdout"
        }
      ]
    },
    {
      "cell_type": "markdown",
      "metadata": {
        "id": "VcXHUfezLCsq"
      },
      "source": [
        "- uma versão completa na qual é possível definir início, fim e passo de cada loop:"
      ]
    },
    {
      "cell_type": "code",
      "metadata": {
        "id": "qBgFKq2XK_Wq",
        "outputId": "838ecd06-7613-4a1a-d4e1-13af7295638a",
        "colab": {
          "base_uri": "https://localhost:8080/",
          "height": 68
        }
      },
      "source": [
        "for i in range(0,len(aposta_mega_sena),2):\n",
        "  print(\"Posição {} = {}\".format(i,aposta_mega_sena[i]))"
      ],
      "execution_count": null,
      "outputs": [
        {
          "output_type": "stream",
          "text": [
            "Posição 0 = 6\n",
            "Posição 2 = 19\n",
            "Posição 4 = 39\n"
          ],
          "name": "stdout"
        }
      ]
    },
    {
      "cell_type": "code",
      "metadata": {
        "id": "te4dRQKtLNkw",
        "outputId": "60e45052-a290-4b54-bce4-e1b1faf719dc",
        "colab": {
          "base_uri": "https://localhost:8080/",
          "height": 119
        }
      },
      "source": [
        "for i in range(len(aposta_mega_sena)-1,-1,-1):\n",
        "  print(\"Posição {} = {}\".format(i,aposta_mega_sena[i]))"
      ],
      "execution_count": null,
      "outputs": [
        {
          "output_type": "stream",
          "text": [
            "Posição 5 = 40\n",
            "Posição 4 = 39\n",
            "Posição 3 = 20\n",
            "Posição 2 = 19\n",
            "Posição 1 = 14\n",
            "Posição 0 = 6\n"
          ],
          "name": "stdout"
        }
      ]
    },
    {
      "cell_type": "markdown",
      "metadata": {
        "id": "zD8rcpH4LX1M"
      },
      "source": [
        "Note que nesse último exemplo percorremos a lista começando da última posição até a primeira com um passo negativo."
      ]
    },
    {
      "cell_type": "markdown",
      "metadata": {
        "id": "qDCq6a9kMbok"
      },
      "source": [
        "## Exercício 2:\n",
        "\n",
        "Percorra a lista aposta_mega_sena na ordem inversa usando um loop com variável de controle crescente e índices com sinal negativo."
      ]
    },
    {
      "cell_type": "code",
      "metadata": {
        "id": "j5dOMtrlLUrB"
      },
      "source": [
        ""
      ],
      "execution_count": null,
      "outputs": []
    },
    {
      "cell_type": "markdown",
      "metadata": {
        "id": "lyzy0bN3MvC7"
      },
      "source": [
        "Um segundo formato de FOR permite o percorrimento da lista sem a função range:"
      ]
    },
    {
      "cell_type": "code",
      "metadata": {
        "id": "4JK2c2_4RId1",
        "outputId": "c6064c42-de48-4833-b6f4-6febcbd6ccb0",
        "colab": {
          "base_uri": "https://localhost:8080/",
          "height": 170
        }
      },
      "source": [
        "for x in lista_de_compras + aposta_mega_sena:\n",
        "  print(type(x),x)"
      ],
      "execution_count": null,
      "outputs": [
        {
          "output_type": "stream",
          "text": [
            "<class 'str'> maçã\n",
            "<class 'str'> banana\n",
            "<class 'str'> laranja\n",
            "<class 'int'> 6\n",
            "<class 'int'> 14\n",
            "<class 'int'> 19\n",
            "<class 'int'> 20\n",
            "<class 'int'> 39\n",
            "<class 'int'> 40\n"
          ],
          "name": "stdout"
        }
      ]
    },
    {
      "cell_type": "markdown",
      "metadata": {
        "id": "QBFOmm1lRc1b"
      },
      "source": [
        "Note que não usamos nem range nem índices. A variável x extrai um dado por vez da coleção passada como parâmetro após o *in*."
      ]
    },
    {
      "cell_type": "markdown",
      "metadata": {
        "id": "BtIz5WDgaJEu"
      },
      "source": [
        "### Copiando uma lista\n",
        "\n",
        "Usando uma atribuição é possível criar uma nova lista com trechos de outra:"
      ]
    },
    {
      "cell_type": "code",
      "metadata": {
        "id": "8tgpxQnwcDGA"
      },
      "source": [
        "lista_curta_de_compras = lista_de_compras[1:]"
      ],
      "execution_count": null,
      "outputs": []
    },
    {
      "cell_type": "code",
      "metadata": {
        "id": "mGlIA3ygcTz5",
        "outputId": "1d210c08-d85b-4d04-dcdb-203fb7c62172",
        "colab": {
          "base_uri": "https://localhost:8080/",
          "height": 34
        }
      },
      "source": [
        "lista_curta_de_compras"
      ],
      "execution_count": null,
      "outputs": [
        {
          "output_type": "execute_result",
          "data": {
            "text/plain": [
              "['banana', 'laranja']"
            ]
          },
          "metadata": {
            "tags": []
          },
          "execution_count": 51
        }
      ]
    },
    {
      "cell_type": "markdown",
      "metadata": {
        "id": "0NnBmNBOcZqA"
      },
      "source": [
        "### Cuidados na cópia de listas\n",
        "\n",
        "A variável que armazena uma lista na verdade é somente uma indicação (ponteiro) de onde essa lista está armazenada. Assim, é preciso bastante cuidado ao fazer cópias de uma lista pois uma atribuição simples estará somente criando outro ponteiro apontando para a mesma área."
      ]
    },
    {
      "cell_type": "code",
      "metadata": {
        "id": "epseZORjaMRk"
      },
      "source": [
        "copia_aposta_mega_sena = aposta_mega_sena[1:]"
      ],
      "execution_count": null,
      "outputs": []
    },
    {
      "cell_type": "markdown",
      "metadata": {
        "id": "i1nZ0E7qYwz-"
      },
      "source": [
        "### Alterando o conteúdo de uma lista com loop:\n",
        "\n",
        "Os índices podem ser utilizados para alterar o conteúdo da lista em posições específicas:"
      ]
    },
    {
      "cell_type": "code",
      "metadata": {
        "id": "ESEhsNrtZPJt",
        "outputId": "b283305a-9ce7-410f-d02d-023525bb4cb3",
        "colab": {
          "base_uri": "https://localhost:8080/",
          "height": 136
        }
      },
      "source": [
        "print(\"Antes:\",copia_aposta_mega_sena, aposta_mega_sena)\n",
        "for i in range(len(copia_aposta_mega_sena)):\n",
        "  print(copia_aposta_mega_sena[i]%2)\n",
        "  if copia_aposta_mega_sena[i]%2==1:\n",
        "    copia_aposta_mega_sena[i]+=1\n",
        "print(\"Depois:\",copia_aposta_mega_sena, aposta_mega_sena)"
      ],
      "execution_count": null,
      "outputs": [
        {
          "output_type": "stream",
          "text": [
            "Antes: [14, 19, 20, 39, 53] [6, 14, 19, 20, 39, 53]\n",
            "0\n",
            "1\n",
            "0\n",
            "1\n",
            "1\n",
            "Depois: [14, 20, 20, 40, 54] [6, 14, 19, 20, 39, 53]\n"
          ],
          "name": "stdout"
        }
      ]
    },
    {
      "cell_type": "markdown",
      "metadata": {
        "id": "IQcm49U5bpCj"
      },
      "source": [
        "Note que a alteração foi feita na cópia mas a lista \"original\" TAMBÉM FOI ALTERADA! A forma correta de fazer uma cópia independente de uma lista requer o uso da função copy:"
      ]
    },
    {
      "cell_type": "code",
      "metadata": {
        "id": "o2PNYsOrcyfB"
      },
      "source": [
        "aposta_mega_sena = [6, 14, 19, 20, 39, 53]\n",
        "copia_aposta_mega_sena = aposta_mega_sena.copy()\n"
      ],
      "execution_count": null,
      "outputs": []
    },
    {
      "cell_type": "code",
      "metadata": {
        "id": "XZtJac_NdRNK",
        "outputId": "41b989e9-0503-4e71-94d4-f3812dc9412a",
        "colab": {
          "base_uri": "https://localhost:8080/",
          "height": 51
        }
      },
      "source": [
        "print(\"Antes:\",copia_aposta_mega_sena, aposta_mega_sena)\n",
        "for i in range(len(aposta_mega_sena)):\n",
        "  if copia_aposta_mega_sena[i]%2==1:\n",
        "    copia_aposta_mega_sena[i]+=1\n",
        "print(\"Depois:\",copia_aposta_mega_sena, aposta_mega_sena)"
      ],
      "execution_count": null,
      "outputs": [
        {
          "output_type": "stream",
          "text": [
            "Antes: [6, 14, 19, 20, 39, 53] [6, 14, 19, 20, 39, 53]\n",
            "Depois: [6, 14, 20, 20, 40, 54] [6, 14, 19, 20, 39, 53]\n"
          ],
          "name": "stdout"
        }
      ]
    },
    {
      "cell_type": "markdown",
      "metadata": {
        "id": "KzdlSPmbdkyP"
      },
      "source": [
        "## Exercício 3:\n",
        "\n",
        "Crie uma cópia independente da lista aposta_mega_sena sem o primeiro e o último elementos. Em seguida altere essa nova lista multiplicando seus termos por 10.\n"
      ]
    },
    {
      "cell_type": "code",
      "source": [
        ""
      ],
      "metadata": {
        "id": "lM2N0gvvtP42"
      },
      "execution_count": null,
      "outputs": []
    },
    {
      "cell_type": "markdown",
      "metadata": {
        "id": "XknPW8GyZBPO"
      },
      "source": [
        "### Outras operações que modificam a lista original:\n",
        "\n",
        "- v.append(x): adiciona o elemento x ao final da lista v\n",
        "- v.extend(t): adiciona a lista de elementos t ao final da lista v\n",
        "- v.insert(i, x): adiciona o elemento x na posição i da lista v (o índice começa em 0)\n",
        "- v.remove(x): remove o primeiro item com o valor x\n",
        "- v.pop(i): se i for informado, remove o elemento da posição i da lista v e retorna o elemento. Se i não for informado, retorna o último elemento e o remove da lista"
      ]
    },
    {
      "cell_type": "code",
      "metadata": {
        "id": "--LX44t4e7CG",
        "outputId": "85fd7409-f2a2-4605-bfef-fd916dc67fc6",
        "colab": {
          "base_uri": "https://localhost:8080/",
          "height": 51
        }
      },
      "source": [
        "print(\"antes:\",aposta_mega_sena)\n",
        "aposta_mega_sena.append(33)\n",
        "print(\"depois:\",aposta_mega_sena)"
      ],
      "execution_count": null,
      "outputs": [
        {
          "output_type": "stream",
          "text": [
            "antes: [6, 14, 19, 20, 39, 53]\n",
            "depois: [6, 14, 19, 20, 39, 53, 33]\n"
          ],
          "name": "stdout"
        }
      ]
    },
    {
      "cell_type": "code",
      "metadata": {
        "id": "IvgEILyDfV-d",
        "outputId": "d4df454e-2a76-46cb-c770-f5b2abd1cc07",
        "colab": {
          "base_uri": "https://localhost:8080/",
          "height": 51
        }
      },
      "source": [
        "print(aposta_mega_sena.pop())\n",
        "print(aposta_mega_sena)"
      ],
      "execution_count": null,
      "outputs": [
        {
          "output_type": "stream",
          "text": [
            "33\n",
            "[6, 14, 19, 20, 39, 53]\n"
          ],
          "name": "stdout"
        }
      ]
    },
    {
      "cell_type": "markdown",
      "metadata": {
        "id": "EhW7GO6HfzzT"
      },
      "source": [
        "Cuidados ao usar o insert:\n",
        "\n",
        "- inserir um dado numa posição além da última causa uma extensão da lista em uma só posição e o dado pode não ficar na posição indicada:"
      ]
    },
    {
      "cell_type": "code",
      "metadata": {
        "id": "zdkYVuSJCsw6",
        "colab": {
          "base_uri": "https://localhost:8080/",
          "height": 34
        },
        "outputId": "2b4dc609-48b9-4056-aae8-680564a4cafc"
      },
      "source": [
        "aposta_mega_sena.insert(2,15)\n",
        "print(aposta_mega_sena)"
      ],
      "execution_count": null,
      "outputs": [
        {
          "output_type": "stream",
          "text": [
            "[6, 14, 15, 19, 20, 39, 53]\n"
          ],
          "name": "stdout"
        }
      ]
    },
    {
      "cell_type": "code",
      "metadata": {
        "id": "Y3PGxoxgfm_z",
        "outputId": "a1f491c5-7c07-4855-f670-076667473c10",
        "colab": {
          "base_uri": "https://localhost:8080/",
          "height": 34
        }
      },
      "source": [
        "aposta_mega_sena.insert(15,100)\n",
        "aposta_mega_sena"
      ],
      "execution_count": null,
      "outputs": [
        {
          "output_type": "execute_result",
          "data": {
            "text/plain": [
              "[6, 14, 15, 19, 20, 39, 53, 100]"
            ]
          },
          "metadata": {
            "tags": []
          },
          "execution_count": 70
        }
      ]
    },
    {
      "cell_type": "markdown",
      "metadata": {
        "id": "6HJ-pR5ygP-z"
      },
      "source": [
        "A inserção numa posição intermediária \"empurra\" os dados seguintes uma posição adiante."
      ]
    },
    {
      "cell_type": "code",
      "metadata": {
        "id": "zhKTqMSagGCy"
      },
      "source": [
        "aposta_mega_sena.insert(1,10)"
      ],
      "execution_count": null,
      "outputs": []
    },
    {
      "cell_type": "code",
      "metadata": {
        "id": "RjFE41tugMH7",
        "outputId": "46b53d3f-916f-4f57-c3b5-39118e5f8698",
        "colab": {
          "base_uri": "https://localhost:8080/",
          "height": 34
        }
      },
      "source": [
        "aposta_mega_sena"
      ],
      "execution_count": null,
      "outputs": [
        {
          "output_type": "execute_result",
          "data": {
            "text/plain": [
              "[6, 10, 14, 19, 20, 39, 53, 10]"
            ]
          },
          "metadata": {
            "tags": []
          },
          "execution_count": 39
        }
      ]
    },
    {
      "cell_type": "markdown",
      "metadata": {
        "id": "YJX0Qy_4Ir6x"
      },
      "source": [
        "Ordenando uma lista:"
      ]
    },
    {
      "cell_type": "code",
      "metadata": {
        "id": "kst8h7PiLRNy",
        "outputId": "43342ee7-c690-49de-8734-e465bcca9868",
        "colab": {
          "base_uri": "https://localhost:8080/",
          "height": 34
        }
      },
      "source": [
        "vogais = ['e', 'a', 'u', 'o', 'i']\n",
        "\n",
        "vogais.sort()\n",
        "\n",
        "print('Vogais ordenadas:', vogais)"
      ],
      "execution_count": null,
      "outputs": [
        {
          "output_type": "stream",
          "text": [
            "Vogais ordenadas: ['a', 'e', 'i', 'o', 'u']\n"
          ],
          "name": "stdout"
        }
      ]
    },
    {
      "cell_type": "code",
      "metadata": {
        "id": "-APzF1ThNQ2x",
        "outputId": "1ec16327-6040-4c07-ad0b-b3989de12d28",
        "colab": {
          "base_uri": "https://localhost:8080/",
          "height": 34
        }
      },
      "source": [
        "vogais.sort(reverse = True)\n",
        "\n",
        "print('Vogais na ordem inversa:', vogais)"
      ],
      "execution_count": null,
      "outputs": [
        {
          "output_type": "stream",
          "text": [
            "Vogais na ordem inversa: ['u', 'o', 'i', 'e', 'a']\n"
          ],
          "name": "stdout"
        }
      ]
    },
    {
      "cell_type": "markdown",
      "metadata": {
        "id": "twCAWcCageBq"
      },
      "source": [
        "## Exercício 4:\n",
        "\n",
        "Usando um loop adicione os dados de aposta_mega_sena em lista_vazia de forma que fiquem em ordem decrescente e sem repetição."
      ]
    },
    {
      "cell_type": "code",
      "source": [
        ""
      ],
      "metadata": {
        "id": "XIr1FYhTtnJN"
      },
      "execution_count": null,
      "outputs": []
    },
    {
      "cell_type": "markdown",
      "metadata": {
        "id": "uAdiqoMAUhQE"
      },
      "source": [
        "### Listas de listas\n",
        "\n",
        "É possível criar uma lista de listas (o que não é a mesma coisa que concatenar duas listas)."
      ]
    },
    {
      "cell_type": "code",
      "metadata": {
        "id": "IKjnzixVRYGl"
      },
      "source": [
        "lista_de_listas = [aposta_mega_sena,lista_de_compras,lista_vazia]"
      ],
      "execution_count": null,
      "outputs": []
    },
    {
      "cell_type": "code",
      "metadata": {
        "id": "pluBUdPxU7SQ",
        "outputId": "5c6c747b-fba8-424a-fca4-85518f566bf2",
        "colab": {
          "base_uri": "https://localhost:8080/",
          "height": 34
        }
      },
      "source": [
        "print(lista_de_listas)"
      ],
      "execution_count": null,
      "outputs": [
        {
          "output_type": "stream",
          "text": [
            "[[53, 39, 20, 19, 14, 6, 6], ['maçã', 'banana', 'laranja'], [53, 39, 20, 19, 14, 6]]\n"
          ],
          "name": "stdout"
        }
      ]
    },
    {
      "cell_type": "code",
      "metadata": {
        "id": "SwrI761yWWNb",
        "outputId": "00f00f99-3310-4229-95cb-bff88b2949a0",
        "colab": {
          "base_uri": "https://localhost:8080/",
          "height": 34
        }
      },
      "source": [
        "len(lista_de_listas)"
      ],
      "execution_count": null,
      "outputs": [
        {
          "output_type": "execute_result",
          "data": {
            "text/plain": [
              "3"
            ]
          },
          "metadata": {
            "tags": []
          },
          "execution_count": 108
        }
      ]
    },
    {
      "cell_type": "markdown",
      "metadata": {
        "id": "E1CVbiKxWC-0"
      },
      "source": [
        "Com o primeiro índice obtem-se uma das listas:"
      ]
    },
    {
      "cell_type": "code",
      "metadata": {
        "id": "I-Of4EZmWJzC",
        "outputId": "5913ced5-37af-4095-cd20-63b05fb38f4b",
        "colab": {
          "base_uri": "https://localhost:8080/",
          "height": 34
        }
      },
      "source": [
        "lista_de_listas[2]"
      ],
      "execution_count": null,
      "outputs": [
        {
          "output_type": "execute_result",
          "data": {
            "text/plain": [
              "[53, 39, 20, 19, 14, 6]"
            ]
          },
          "metadata": {
            "tags": []
          },
          "execution_count": 110
        }
      ]
    },
    {
      "cell_type": "markdown",
      "metadata": {
        "id": "A6qDFw7OWL37"
      },
      "source": [
        "E um segundo índice permite acessar um dado dentro da lista escolhida com o primeiro índice:"
      ]
    },
    {
      "cell_type": "code",
      "metadata": {
        "id": "R4qtbwwlU-C5",
        "outputId": "329fbc42-e624-4d28-c477-b786b9d538c3",
        "colab": {
          "base_uri": "https://localhost:8080/",
          "height": 34
        }
      },
      "source": [
        "lista_de_listas[1][1]"
      ],
      "execution_count": null,
      "outputs": [
        {
          "output_type": "execute_result",
          "data": {
            "text/plain": [
              "'banana'"
            ]
          },
          "metadata": {
            "tags": []
          },
          "execution_count": 111
        }
      ]
    },
    {
      "cell_type": "code",
      "metadata": {
        "id": "lC48FdryKqOt",
        "colab": {
          "base_uri": "https://localhost:8080/",
          "height": 289
        },
        "outputId": "bb287984-c9e4-45fe-bec0-8c35b0dcc712"
      },
      "source": [
        "for x in lista_de_listas:\n",
        "  for y in x:\n",
        "    print(y)"
      ],
      "execution_count": null,
      "outputs": [
        {
          "output_type": "stream",
          "text": [
            "53\n",
            "39\n",
            "20\n",
            "19\n",
            "14\n",
            "6\n",
            "6\n",
            "maçã\n",
            "banana\n",
            "laranja\n",
            "53\n",
            "39\n",
            "20\n",
            "19\n",
            "14\n",
            "6\n"
          ],
          "name": "stdout"
        }
      ]
    },
    {
      "cell_type": "markdown",
      "metadata": {
        "id": "FdTbLLWwD-pt"
      },
      "source": [
        "### Criando matrizes como lista de listas\n",
        "\n"
      ]
    },
    {
      "cell_type": "code",
      "metadata": {
        "id": "DY-ibCoXED3B",
        "outputId": "0b1fb031-4aea-4135-aa74-e1086e383fa1",
        "colab": {
          "base_uri": "https://localhost:8080/",
          "height": 34
        }
      },
      "source": [
        "linha = [0] *10\n",
        "print(linha)"
      ],
      "execution_count": null,
      "outputs": [
        {
          "output_type": "stream",
          "text": [
            "[0, 0, 0, 0, 0, 0, 0, 0, 0, 0]\n"
          ],
          "name": "stdout"
        }
      ]
    },
    {
      "cell_type": "code",
      "metadata": {
        "id": "EILWRLCLLjq5",
        "colab": {
          "base_uri": "https://localhost:8080/",
          "height": 34
        },
        "outputId": "5c2ff61e-8772-4423-e5f7-5674b375ea07"
      },
      "source": [
        "print([linha])"
      ],
      "execution_count": null,
      "outputs": [
        {
          "output_type": "stream",
          "text": [
            "[[0, 0, 0, 0, 0, 0, 0, 0, 0, 0]]\n"
          ],
          "name": "stdout"
        }
      ]
    },
    {
      "cell_type": "markdown",
      "metadata": {
        "id": "LoPhvgw4FXtY"
      },
      "source": [
        "Note que nesse comando expandimos um lista com um elemento numa lista de 10 elementos iguais."
      ]
    },
    {
      "cell_type": "code",
      "metadata": {
        "id": "dqiwDd4UErwg",
        "outputId": "42f030cd-f063-4b84-b2d1-eefb782d0ca3",
        "colab": {
          "base_uri": "https://localhost:8080/",
          "height": 54
        }
      },
      "source": [
        "matriz = [linha] * 10\n",
        "print(matriz)"
      ],
      "execution_count": null,
      "outputs": [
        {
          "output_type": "stream",
          "text": [
            "[[0, 0, 0, 0, 0, 0, 0, 0, 0, 0], [0, 0, 0, 0, 0, 0, 0, 0, 0, 0], [0, 0, 0, 0, 0, 0, 0, 0, 0, 0], [0, 0, 0, 0, 0, 0, 0, 0, 0, 0], [0, 0, 0, 0, 0, 0, 0, 0, 0, 0], [0, 0, 0, 0, 0, 0, 0, 0, 0, 0], [0, 0, 0, 0, 0, 0, 0, 0, 0, 0], [0, 0, 0, 0, 0, 0, 0, 0, 0, 0], [0, 0, 0, 0, 0, 0, 0, 0, 0, 0], [0, 0, 0, 0, 0, 0, 0, 0, 0, 0]]\n"
          ],
          "name": "stdout"
        }
      ]
    },
    {
      "cell_type": "markdown",
      "metadata": {
        "id": "hufVNTThFheZ"
      },
      "source": [
        "Nesse segundo comando expandimos uma lista que tinha como elemento único a lista criada no comando anterior e expandimos essa lista de listas 10 vezes."
      ]
    },
    {
      "cell_type": "code",
      "metadata": {
        "id": "woQYXL3-E6ku",
        "outputId": "35a32f96-f7ac-49c7-ea26-3fd665646c71",
        "colab": {
          "base_uri": "https://localhost:8080/",
          "height": 34
        }
      },
      "source": [
        "matriz[5][5]"
      ],
      "execution_count": null,
      "outputs": [
        {
          "output_type": "execute_result",
          "data": {
            "text/plain": [
              "0"
            ]
          },
          "metadata": {
            "tags": []
          },
          "execution_count": 117
        }
      ]
    },
    {
      "cell_type": "code",
      "metadata": {
        "id": "2A06XH5FL8S2",
        "colab": {
          "base_uri": "https://localhost:8080/",
          "height": 34
        },
        "outputId": "edae6779-8ca4-4ae4-e7d5-3fc49fb6b5b8"
      },
      "source": [
        "type(matriz)"
      ],
      "execution_count": null,
      "outputs": [
        {
          "output_type": "execute_result",
          "data": {
            "text/plain": [
              "list"
            ]
          },
          "metadata": {
            "tags": []
          },
          "execution_count": 118
        }
      ]
    },
    {
      "cell_type": "markdown",
      "metadata": {
        "id": "DVlusjH-Fvee"
      },
      "source": [
        "## Exercício 5\n",
        "\n",
        "Crie uma matriz quadrada de 5x5 elementos e preencha-a da seguinte forma usando loops aninhados:\n",
        "\n",
        "[[0 1 2 3 4]\n",
        "\n",
        " [1 2 3 4 5]\n",
        "\n",
        " [2 3 4 5 6]\n",
        "\n",
        " [3 4 5 6 7]\n",
        "\n",
        " [4 5 6 7 8]]"
      ]
    },
    {
      "cell_type": "code",
      "source": [
        ""
      ],
      "metadata": {
        "id": "qy_2_W6Gqlpm"
      },
      "execution_count": null,
      "outputs": []
    },
    {
      "cell_type": "markdown",
      "metadata": {
        "id": "nvDDGZn4W0CK"
      },
      "source": [
        "### Criando uma lista com números num dado intervalo e um passo \n",
        "\n",
        "Usando a função range:"
      ]
    },
    {
      "cell_type": "code",
      "metadata": {
        "id": "GQVuEvrrWAqW"
      },
      "source": [
        "intervalo = range(100,200,10)"
      ],
      "execution_count": null,
      "outputs": []
    },
    {
      "cell_type": "code",
      "metadata": {
        "id": "5wdgdoWrWmc7",
        "outputId": "55cff4fa-12ec-4065-a928-192b39a5bdab",
        "colab": {
          "base_uri": "https://localhost:8080/",
          "height": 34
        }
      },
      "source": [
        "print(intervalo)"
      ],
      "execution_count": null,
      "outputs": [
        {
          "output_type": "stream",
          "text": [
            "range(100, 200, 10)\n"
          ],
          "name": "stdout"
        }
      ]
    },
    {
      "cell_type": "code",
      "metadata": {
        "id": "-4L1G_e6Wob9",
        "outputId": "aa83199a-1feb-421c-a497-2ae9bb5c48a8",
        "colab": {
          "base_uri": "https://localhost:8080/",
          "height": 187
        }
      },
      "source": [
        "for x in intervalo:\n",
        "  print(x)"
      ],
      "execution_count": null,
      "outputs": [
        {
          "output_type": "stream",
          "text": [
            "100\n",
            "110\n",
            "120\n",
            "130\n",
            "140\n",
            "150\n",
            "160\n",
            "170\n",
            "180\n",
            "190\n"
          ],
          "name": "stdout"
        }
      ]
    },
    {
      "cell_type": "code",
      "source": [
        "reverso = range(200,100,-10)"
      ],
      "metadata": {
        "id": "Dfd7bEN9rq8o"
      },
      "execution_count": 10,
      "outputs": []
    },
    {
      "cell_type": "code",
      "source": [
        "for x in reverso:\n",
        "  print(x)"
      ],
      "metadata": {
        "colab": {
          "base_uri": "https://localhost:8080/"
        },
        "id": "4maKVtEar1oo",
        "outputId": "67e42303-2d4d-4f3b-b2f3-ef2562e68187"
      },
      "execution_count": 11,
      "outputs": [
        {
          "output_type": "stream",
          "name": "stdout",
          "text": [
            "200\n",
            "190\n",
            "180\n",
            "170\n",
            "160\n",
            "150\n",
            "140\n",
            "130\n",
            "120\n",
            "110\n"
          ]
        }
      ]
    },
    {
      "cell_type": "markdown",
      "metadata": {
        "id": "Gp0dW8OxegCd"
      },
      "source": [
        "As listas criadas com range não podem ser alteradas."
      ]
    },
    {
      "cell_type": "markdown",
      "metadata": {
        "id": "Dsll_K_t9Bc0"
      },
      "source": [
        "### Index\n",
        "\n",
        "Usando o comando index() é possível obter a posição de um elemento numa lista:"
      ]
    },
    {
      "cell_type": "code",
      "metadata": {
        "id": "v8oufcGU8v_C",
        "outputId": "e7e88e01-c6c9-4163-a3cd-b77c15edf371",
        "colab": {
          "base_uri": "https://localhost:8080/",
          "height": 164
        }
      },
      "source": [
        "aposta_mega_sena.index(140)"
      ],
      "execution_count": null,
      "outputs": [
        {
          "output_type": "error",
          "ename": "ValueError",
          "evalue": "ignored",
          "traceback": [
            "\u001b[0;31m---------------------------------------------------------------------------\u001b[0m",
            "\u001b[0;31mValueError\u001b[0m                                Traceback (most recent call last)",
            "\u001b[0;32m<ipython-input-129-027955dd8032>\u001b[0m in \u001b[0;36m<module>\u001b[0;34m()\u001b[0m\n\u001b[0;32m----> 1\u001b[0;31m \u001b[0maposta_mega_sena\u001b[0m\u001b[0;34m.\u001b[0m\u001b[0mindex\u001b[0m\u001b[0;34m(\u001b[0m\u001b[0;36m140\u001b[0m\u001b[0;34m)\u001b[0m\u001b[0;34m\u001b[0m\u001b[0;34m\u001b[0m\u001b[0m\n\u001b[0m",
            "\u001b[0;31mValueError\u001b[0m: 140 is not in list"
          ]
        }
      ]
    },
    {
      "cell_type": "markdown",
      "metadata": {
        "id": "WzFdOUchOhgk"
      },
      "source": [
        "Se o elemento aparecer mais de uma vez na lista index vai retornar sua primeira posição."
      ]
    },
    {
      "cell_type": "markdown",
      "metadata": {
        "id": "9EUq6YMJ9H97"
      },
      "source": [
        "Se o elemento não existir o comando vai retornar um erro e interromper o script. Por isso é conveniente testar se o elemento está contido na lista antes de pedir sua posição:"
      ]
    },
    {
      "cell_type": "code",
      "metadata": {
        "id": "8Zzvsvuh9L0J",
        "outputId": "69b04516-e238-427f-8041-ac75a29d6edf",
        "colab": {
          "base_uri": "https://localhost:8080/",
          "height": 51
        }
      },
      "source": [
        "valor_buscado = input(\"Digite um valor:\")\n",
        "if int(valor_buscado) in aposta_mega_sena:\n",
        "  print(\"A posição do valor buscado na lista é:\",aposta_mega_sena.index(int(valor_buscado)))\n",
        "else:\n",
        "  print(\"O valor buscado não existe na lista\")"
      ],
      "execution_count": null,
      "outputs": [
        {
          "output_type": "stream",
          "text": [
            "Digite um valor:140\n",
            "O valor buscado não existe na lista\n"
          ],
          "name": "stdout"
        }
      ]
    },
    {
      "cell_type": "markdown",
      "metadata": {
        "id": "dq0FsKQ8O-jb"
      },
      "source": [
        "## Exercício 6\n",
        "\n",
        "Implemente um script que procure, na matriz criada no exercício anterior, um número digitado pelo usuário. Caso o encontre retorne a linha e a coluna da primeira ocorrência. Caso contrário diga que o valor não existe, sem ocorrência de erro."
      ]
    },
    {
      "cell_type": "code",
      "metadata": {
        "id": "xp9ZDYS8P91E"
      },
      "source": [
        ""
      ],
      "execution_count": null,
      "outputs": []
    },
    {
      "cell_type": "markdown",
      "metadata": {
        "id": "lUUVxWyq78mK"
      },
      "source": [
        "## Cadeias de caracteres - Strings\n",
        "\n",
        "Os strings são armazenados como sequências de caracteres e podem ser manipulados utilizando índices, como nas listas:"
      ]
    },
    {
      "cell_type": "code",
      "metadata": {
        "id": "5Lxd-fxt8NNZ"
      },
      "source": [
        "linha = \"Toda célula de um notebook pode ser alterada\""
      ],
      "execution_count": null,
      "outputs": []
    },
    {
      "cell_type": "code",
      "metadata": {
        "id": "JAP8xvuD8PRE",
        "outputId": "1a4a79ff-e211-4640-8aaf-03232d6f0ba2",
        "colab": {
          "base_uri": "https://localhost:8080/",
          "height": 34
        }
      },
      "source": [
        "linha[5:]"
      ],
      "execution_count": null,
      "outputs": [
        {
          "output_type": "execute_result",
          "data": {
            "text/plain": [
              "'célula de um notebook pode ser alterada'"
            ]
          },
          "metadata": {
            "tags": []
          },
          "execution_count": 134
        }
      ]
    },
    {
      "cell_type": "code",
      "metadata": {
        "id": "EC1qY4DsQJSq",
        "outputId": "a8df7bb6-c03f-4fad-8d31-c6371fba9388",
        "colab": {
          "base_uri": "https://localhost:8080/",
          "height": 34
        }
      },
      "source": [
        "linha[:-10]"
      ],
      "execution_count": null,
      "outputs": [
        {
          "output_type": "execute_result",
          "data": {
            "text/plain": [
              "'Toda célula de um notebook pode se'"
            ]
          },
          "metadata": {
            "tags": []
          },
          "execution_count": 135
        }
      ]
    },
    {
      "cell_type": "code",
      "metadata": {
        "id": "vRl-G1sj8bKc",
        "outputId": "772af457-8321-407c-c566-699b1355010d",
        "colab": {
          "base_uri": "https://localhost:8080/",
          "height": 34
        }
      },
      "source": [
        "\"pode\" in linha"
      ],
      "execution_count": null,
      "outputs": [
        {
          "output_type": "execute_result",
          "data": {
            "text/plain": [
              "True"
            ]
          },
          "metadata": {
            "tags": []
          },
          "execution_count": 136
        }
      ]
    },
    {
      "cell_type": "code",
      "metadata": {
        "id": "88e85Tbq8hLV",
        "outputId": "8549a91a-063b-4597-f102-751fba0c7fc4",
        "colab": {
          "base_uri": "https://localhost:8080/",
          "height": 34
        }
      },
      "source": [
        "linha.index(\"alterada\")"
      ],
      "execution_count": null,
      "outputs": [
        {
          "output_type": "execute_result",
          "data": {
            "text/plain": [
              "36"
            ]
          },
          "metadata": {
            "tags": []
          },
          "execution_count": 137
        }
      ]
    },
    {
      "cell_type": "code",
      "metadata": {
        "id": "HRb_5v-0SENx",
        "outputId": "0d75eb69-8869-40e0-d671-935b5ad86987",
        "colab": {
          "base_uri": "https://localhost:8080/",
          "height": 34
        }
      },
      "source": [
        "linha.index(\" \")"
      ],
      "execution_count": null,
      "outputs": [
        {
          "output_type": "execute_result",
          "data": {
            "text/plain": [
              "4"
            ]
          },
          "metadata": {
            "tags": []
          },
          "execution_count": 69
        }
      ]
    },
    {
      "cell_type": "code",
      "metadata": {
        "id": "xVntsItLRoBg",
        "colab": {
          "base_uri": "https://localhost:8080/",
          "height": 34
        },
        "outputId": "983fdfb1-97cb-4129-bb99-f1dfbff2bd37"
      },
      "source": [
        "lista_de_compras[0][:2]"
      ],
      "execution_count": null,
      "outputs": [
        {
          "output_type": "execute_result",
          "data": {
            "text/plain": [
              "'ma'"
            ]
          },
          "metadata": {
            "tags": []
          },
          "execution_count": 139
        }
      ]
    },
    {
      "cell_type": "markdown",
      "metadata": {
        "id": "1jR496NZT_SM"
      },
      "source": [
        "## Desafio\n",
        "\n",
        "Escreva a linha faltante."
      ]
    },
    {
      "cell_type": "code",
      "metadata": {
        "id": "k1TfGNVDQn14",
        "outputId": "8607c688-f509-45cb-e826-8b4e5ffa54de",
        "colab": {
          "base_uri": "https://localhost:8080/",
          "height": 153
        }
      },
      "source": [
        "i = 0\n",
        "lista_palavras = []\n",
        "while ' ' in linha:\n",
        "  lista_palavras.append(linha[:linha.index(' ')])\n",
        "  i = linha.index(' ')+1\n",
        "  xxxxxxxxxxxxxxxxxxxxx\n",
        "  print(i,linha)\n",
        "lista_palavras.append(linha)\n",
        "print(lista_palavras)"
      ],
      "execution_count": null,
      "outputs": [
        {
          "output_type": "stream",
          "text": [
            "5 célula de um notebook pode ser alterada\n",
            "7 de um notebook pode ser alterada\n",
            "3 um notebook pode ser alterada\n",
            "3 notebook pode ser alterada\n",
            "9 pode ser alterada\n",
            "5 ser alterada\n",
            "4 alterada\n",
            "['Toda', 'célula', 'de', 'um', 'notebook', 'pode', 'ser', 'alterada']\n"
          ],
          "name": "stdout"
        }
      ]
    },
    {
      "cell_type": "markdown",
      "metadata": {
        "id": "J6LYQMW__Iso"
      },
      "source": [
        "## Exercício 7: (tarefa)\n",
        "\n",
        "Escreva um script que leia dois textos do teclado e conte quantas sequências de 3 caracteres sucessivos do primeiro texto ocorrem também no segundo."
      ]
    },
    {
      "cell_type": "code",
      "metadata": {
        "id": "Z2MDMTQ7_nt_"
      },
      "source": [
        ""
      ],
      "execution_count": null,
      "outputs": []
    },
    {
      "cell_type": "markdown",
      "metadata": {
        "id": "Qz3Hrn74g0LU"
      },
      "source": [
        "## Tuplas\n",
        "\n",
        "São as primas imutáveis das listas. Quase tudo que você pode fazer com uma\n",
        "lista, que não envolva modificá-la, é possível ser feito em uma tupla.  Tuplas são muito utilizadas na passagem de parâmetros de e para rotinas. Você\n",
        "especifica uma tupla ao usar parênteses (ou nada) em vez de colchetes:"
      ]
    },
    {
      "cell_type": "code",
      "metadata": {
        "id": "7iXsCJSzoBrX"
      },
      "source": [
        "tupla1 = (1,2.2,\"teste\")"
      ],
      "execution_count": 12,
      "outputs": []
    },
    {
      "cell_type": "code",
      "metadata": {
        "id": "VgN2NlSmtO9O",
        "outputId": "f8585c54-18af-4276-c452-c648c92dcafb",
        "colab": {
          "base_uri": "https://localhost:8080/",
          "height": 34
        }
      },
      "source": [
        "print(tupla1)"
      ],
      "execution_count": null,
      "outputs": [
        {
          "output_type": "stream",
          "text": [
            "(1, 2.2, 'teste')\n"
          ],
          "name": "stdout"
        }
      ]
    },
    {
      "cell_type": "code",
      "metadata": {
        "id": "TybUDRkUUpoD",
        "outputId": "45b974d8-aaad-4707-9ffb-9142f03dbfaf",
        "colab": {
          "base_uri": "https://localhost:8080/",
          "height": 34
        }
      },
      "source": [
        "type(tupla1)"
      ],
      "execution_count": null,
      "outputs": [
        {
          "output_type": "execute_result",
          "data": {
            "text/plain": [
              "tuple"
            ]
          },
          "metadata": {
            "tags": []
          },
          "execution_count": 144
        }
      ]
    },
    {
      "cell_type": "code",
      "source": [
        "tupla1*2"
      ],
      "metadata": {
        "colab": {
          "base_uri": "https://localhost:8080/"
        },
        "id": "n8dBfaLvuktl",
        "outputId": "f72291d8-f9c2-4fcb-82c8-b47f3d725a97"
      },
      "execution_count": 13,
      "outputs": [
        {
          "output_type": "execute_result",
          "data": {
            "text/plain": [
              "(1, 2.2, 'teste', 1, 2.2, 'teste')"
            ]
          },
          "metadata": {},
          "execution_count": 13
        }
      ]
    },
    {
      "cell_type": "code",
      "metadata": {
        "id": "y69RQtWUtWy1"
      },
      "source": [
        "x = 10\n",
        "y = 'casa'\n",
        "tupla2 = x , y , tupla1"
      ],
      "execution_count": null,
      "outputs": []
    },
    {
      "cell_type": "code",
      "metadata": {
        "id": "80coDQPftikF",
        "outputId": "17841826-e3fc-4f98-926e-9eb4c5aa6a8a",
        "colab": {
          "base_uri": "https://localhost:8080/",
          "height": 34
        }
      },
      "source": [
        "print(tupla2)"
      ],
      "execution_count": null,
      "outputs": [
        {
          "output_type": "stream",
          "text": [
            "(10, 'casa', (1, 2.2, 'teste'))\n"
          ],
          "name": "stdout"
        }
      ]
    },
    {
      "cell_type": "code",
      "metadata": {
        "id": "1heXeSdRtnMr",
        "outputId": "3b35fe9c-335d-42d2-9f9f-6c5ec753033c",
        "colab": {
          "base_uri": "https://localhost:8080/",
          "height": 34
        }
      },
      "source": [
        "tupla2[1]"
      ],
      "execution_count": null,
      "outputs": [
        {
          "output_type": "execute_result",
          "data": {
            "text/plain": [
              "'casa'"
            ]
          },
          "metadata": {
            "tags": []
          },
          "execution_count": 146
        }
      ]
    },
    {
      "cell_type": "code",
      "metadata": {
        "id": "Vw921I-BtrjG",
        "outputId": "50dc2b77-f1a3-46c3-e538-230237b0a4f6",
        "colab": {
          "base_uri": "https://localhost:8080/",
          "height": 34
        }
      },
      "source": [
        "tupla2[2][0]"
      ],
      "execution_count": null,
      "outputs": [
        {
          "output_type": "execute_result",
          "data": {
            "text/plain": [
              "1"
            ]
          },
          "metadata": {
            "tags": []
          },
          "execution_count": 147
        }
      ]
    },
    {
      "cell_type": "markdown",
      "metadata": {
        "id": "3QL-19L3dLvK"
      },
      "source": [
        "Para contornar o fato das tuplas serem imutáveis é possível converte-la para lista, fazer as alterações e volta-la para tupla:"
      ]
    },
    {
      "cell_type": "code",
      "metadata": {
        "id": "tPvIUkIVcm29",
        "outputId": "8908d892-5916-4c63-c43e-d3ddd7c324cf",
        "colab": {
          "base_uri": "https://localhost:8080/",
          "height": 51
        }
      },
      "source": [
        "lt = list(tupla1)\n",
        "print(lt)\n",
        "lt.append(22)\n",
        "print(lt)"
      ],
      "execution_count": null,
      "outputs": [
        {
          "output_type": "stream",
          "text": [
            "[1, 2.2, 'teste']\n",
            "[1, 2.2, 'teste', 22]\n"
          ],
          "name": "stdout"
        }
      ]
    },
    {
      "cell_type": "code",
      "metadata": {
        "id": "8AxTMvcLcRbO",
        "outputId": "81429834-4a2c-4a0b-85e0-2820c642af33",
        "colab": {
          "base_uri": "https://localhost:8080/",
          "height": 34
        }
      },
      "source": [
        "tupla1 = tuple(lt)\n",
        "print(tupla1)"
      ],
      "execution_count": null,
      "outputs": [
        {
          "output_type": "stream",
          "text": [
            "(1, 2.2, 'teste', 22)\n"
          ],
          "name": "stdout"
        }
      ]
    },
    {
      "cell_type": "markdown",
      "metadata": {
        "id": "AjD6lGpd4E99"
      },
      "source": [
        "### Index em tuplas\n",
        "\n",
        "Usando o comando index() é possível obter a posição de um elemento numa tupla também:"
      ]
    },
    {
      "cell_type": "code",
      "metadata": {
        "id": "KDHznYGb4QIq",
        "outputId": "9d62f74a-dfc3-414a-ff45-8fa9bd373918",
        "colab": {
          "base_uri": "https://localhost:8080/",
          "height": 51
        }
      },
      "source": [
        "meses = (\"janeiro\",\"fevereiro\",\"março\",\"abril\",\"maio\",\"junho\",\"julho\",\"agosto\",\"setembro\",\"outubro\",\"novembro\",\"dezembro\")\n",
        "posição = \"primeiro\",\"segundo\",\"terceiro\",\"quarto\",\"quinto\",\"sexto\",\"sétimo\",\"oitavo\",\"nono\",\"décimo\",\"décimo primeiro\",\"décimo segundo\"\n",
        "escolha = input(\"Escolha um mês:\")\n",
        "print(escolha,\"é o \",posição[meses.index(escolha)],\"mês do ano\" )"
      ],
      "execution_count": null,
      "outputs": [
        {
          "output_type": "stream",
          "text": [
            "Escolha um mês:abril\n",
            "abril é o  quarto mês do ano\n"
          ],
          "name": "stdout"
        }
      ]
    },
    {
      "cell_type": "markdown",
      "metadata": {
        "id": "FCQGmJXdVf7U"
      },
      "source": [
        "## Exercício 8:\n",
        "\n",
        "Altere o código acima de forma a evitar que o usuário informe um mês inválido. Repita o procedimento até que ele informe um mês correto."
      ]
    },
    {
      "cell_type": "code",
      "source": [
        ""
      ],
      "metadata": {
        "id": "5VS_KFquu3P9"
      },
      "execution_count": null,
      "outputs": []
    },
    {
      "cell_type": "markdown",
      "metadata": {
        "id": "LjkHFel9YcL6"
      },
      "source": [
        "## Exercício 9: (tarefa)\n",
        "\n",
        "Crie uma tupla com os dias da semana e uma lista a partir de um range variando de 1 a 31. Em seguida peça ao usuário que diga o dia da semana que o primeiro dia desse mês caiu. Use então um loop para mostrar na tela um calendário simplificado mostando o dia do mês e o dia da semana correspondente lado a lado. "
      ]
    },
    {
      "cell_type": "code",
      "metadata": {
        "id": "_6fJtyL9tqhk"
      },
      "source": [
        ""
      ],
      "execution_count": null,
      "outputs": []
    },
    {
      "cell_type": "markdown",
      "metadata": {
        "id": "i6mW5oDuY3IP"
      },
      "source": [
        "## Dicionários\n",
        "\n",
        "Outra estrutura fundamental é o dicionário, que associa valores com chaves e\n",
        "permite que você recupere o valor correspondente de uma dada chave\n",
        "rapidamente. Todos os tipos de dados compostos que estudamos em detalhes até agora — strings, listas e tuplas — são coleções sequenciais. Isto significa que os itens na coleção estão ordenados da esquerda para a direita e eles usam números inteiros como índices para acessar os valores que eles contêm.\n",
        "\n",
        "Dicionário é um tipo diferente de coleção. Ele é um tipo de mapeamento nativo do Python. Um mapa é uma coleção associativa desordenada. A associação, ou mapeamento, é feita a partir de uma chave, que pode ser qualquer tipo imutável, para um valor, que pode ser qualquer objeto de dados do Python.\n",
        "\n",
        "Como exemplo, vamos criar um dicionário para traduzir palavras em inglês para Espanhol. Para este dicionário, as chaves são strings.\n",
        "\n",
        "Uma maneira de criar um dicionário é começar com o dicionário vazio e adicionar pares chave-valor. O dicionário vazio é denotado {}"
      ]
    },
    {
      "cell_type": "code",
      "metadata": {
        "id": "SLmWjCZW6UZq"
      },
      "source": [
        "eng2sp = {}\n",
        "eng2sp['one'] = 'uno'\n",
        "eng2sp['two'] = 'dos'\n",
        "eng2sp['three'] = 'tres'\n"
      ],
      "execution_count": null,
      "outputs": []
    },
    {
      "cell_type": "code",
      "metadata": {
        "id": "bvri1FSRAJvw",
        "outputId": "68a7b1f9-06bb-4a8c-942b-5f603f81e945",
        "colab": {
          "base_uri": "https://localhost:8080/",
          "height": 34
        }
      },
      "source": [
        "print(eng2sp)"
      ],
      "execution_count": null,
      "outputs": [
        {
          "output_type": "stream",
          "text": [
            "{'one': 'uno', 'two': 'dos', 'three': 'tres'}\n"
          ],
          "name": "stdout"
        }
      ]
    },
    {
      "cell_type": "code",
      "metadata": {
        "id": "kyiBaFInWKsB",
        "outputId": "6bcdbbcf-2236-463d-85ad-3e7b0f013521",
        "colab": {
          "base_uri": "https://localhost:8080/",
          "height": 34
        }
      },
      "source": [
        "type(eng2sp)"
      ],
      "execution_count": null,
      "outputs": [
        {
          "output_type": "execute_result",
          "data": {
            "text/plain": [
              "dict"
            ]
          },
          "metadata": {
            "tags": []
          },
          "execution_count": 152
        }
      ]
    },
    {
      "cell_type": "markdown",
      "metadata": {
        "id": "DnLRMKZ_AGqi"
      },
      "source": [
        "Outra maneira de criar um dicionário é fornecer uma lista de pares chave-valor usando a mesma sintaxe que a saída anterior."
      ]
    },
    {
      "cell_type": "code",
      "metadata": {
        "id": "jfviBF0t_482"
      },
      "source": [
        "eng2sp = {'three': 'tres', 'one': 'uno', 'two': 'dos'}"
      ],
      "execution_count": 14,
      "outputs": []
    },
    {
      "cell_type": "markdown",
      "metadata": {
        "id": "gI4HxVF4AWWG"
      },
      "source": [
        "Para acessar um dado do dicionário é preciso usar uma chave existente. O exemplo abaixo mostra como usar uma chave para pesquisar o valor correspondente."
      ]
    },
    {
      "cell_type": "code",
      "metadata": {
        "id": "Q96NtTrYADOn",
        "outputId": "e81d7ccd-0720-446e-9145-c56e8d150ac6",
        "colab": {
          "base_uri": "https://localhost:8080/",
          "height": 34
        }
      },
      "source": [
        "eng2sp['one']"
      ],
      "execution_count": null,
      "outputs": [
        {
          "output_type": "execute_result",
          "data": {
            "text/plain": [
              "'uno'"
            ]
          },
          "metadata": {
            "tags": []
          },
          "execution_count": 154
        }
      ]
    },
    {
      "cell_type": "markdown",
      "metadata": {
        "id": "oi8fwZRICrnh"
      },
      "source": [
        "Para obter os nomes das chaves do dicionário use a função keys():"
      ]
    },
    {
      "cell_type": "code",
      "metadata": {
        "id": "QZJpGoiGCoSK",
        "outputId": "96eebfb3-8d6f-4342-b0bf-12fa2fec0406",
        "colab": {
          "base_uri": "https://localhost:8080/",
          "height": 34
        }
      },
      "source": [
        "eng2sp.keys()"
      ],
      "execution_count": null,
      "outputs": [
        {
          "output_type": "execute_result",
          "data": {
            "text/plain": [
              "dict_keys(['three', 'one', 'two'])"
            ]
          },
          "metadata": {
            "tags": []
          },
          "execution_count": 89
        }
      ]
    },
    {
      "cell_type": "code",
      "metadata": {
        "id": "cue6sYZXVwc7",
        "colab": {
          "base_uri": "https://localhost:8080/",
          "height": 68
        },
        "outputId": "0b7b3ba5-fe1b-4900-c17c-6c3076ebba8a"
      },
      "source": [
        "for x in eng2sp.keys():\n",
        "  print(x,eng2sp[x])"
      ],
      "execution_count": null,
      "outputs": [
        {
          "output_type": "stream",
          "text": [
            "one uno\n",
            "two dos\n",
            "three tres\n"
          ],
          "name": "stdout"
        }
      ]
    },
    {
      "cell_type": "markdown",
      "metadata": {
        "id": "e-c67XuDC-G0"
      },
      "source": [
        "Note que o resultado da função keys é uma lista:"
      ]
    },
    {
      "cell_type": "code",
      "metadata": {
        "id": "ZVT-W3a2C3e6",
        "outputId": "40a4d2a5-201f-43e8-8f92-ef7671e59b32",
        "colab": {
          "base_uri": "https://localhost:8080/",
          "height": 34
        }
      },
      "source": [
        "'two' in eng2sp.keys()"
      ],
      "execution_count": null,
      "outputs": [
        {
          "output_type": "execute_result",
          "data": {
            "text/plain": [
              "True"
            ]
          },
          "metadata": {
            "tags": []
          },
          "execution_count": 90
        }
      ]
    },
    {
      "cell_type": "markdown",
      "source": [
        "Para obter os valores do dicionário use a função values():"
      ],
      "metadata": {
        "id": "th_wqqmEvwAh"
      }
    },
    {
      "cell_type": "code",
      "source": [
        "eng2sp.values()"
      ],
      "metadata": {
        "colab": {
          "base_uri": "https://localhost:8080/"
        },
        "id": "Qf1k7A8gvlyx",
        "outputId": "0843b676-6ba4-45b4-ed96-75e15599f981"
      },
      "execution_count": 15,
      "outputs": [
        {
          "output_type": "execute_result",
          "data": {
            "text/plain": [
              "dict_values(['tres', 'uno', 'dos'])"
            ]
          },
          "metadata": {},
          "execution_count": 15
        }
      ]
    },
    {
      "cell_type": "markdown",
      "source": [
        "Ela também gera uma lista. "
      ],
      "metadata": {
        "id": "QvdGee5Jv5Qa"
      }
    },
    {
      "cell_type": "markdown",
      "metadata": {
        "id": "34SfnBIHWrme"
      },
      "source": [
        "## Exercício 10\n",
        "\n",
        "Implemente um script com um dicionário com dias da semana em português e sua tradução em inglês. Então permita que o usuário pergunte ao dicionário a tradução para um dia específico. Teste se o dia pedido existe como chave no dicionário e informe ao usuário. Se ele informar um dia inválido mostre a lista de nomes válidos. Repita esse procedimento dentro de um loop até que o usuário digite a palavra 'fim'."
      ]
    },
    {
      "cell_type": "code",
      "source": [
        ""
      ],
      "metadata": {
        "id": "0Y1P3gZdwAwq"
      },
      "execution_count": null,
      "outputs": []
    },
    {
      "cell_type": "markdown",
      "metadata": {
        "id": "MHEMLSmBA322"
      },
      "source": [
        "### Operações com dicionários\n",
        "\n",
        "Dicionários também são mutáveis. Como vimos antes, com listas, isso significa que o dicionário pode ser modificado pela referência a uma associação no lado esquerdo de um comando de atribuição. Por exemplo, o seguinte dicionário contém os nomes de várias frutas e o número de cada fruta em estoque:"
      ]
    },
    {
      "cell_type": "code",
      "metadata": {
        "id": "N5rcIFW9AowE",
        "outputId": "79a7755f-e8bc-4559-f326-7e916cc22081",
        "colab": {
          "base_uri": "https://localhost:8080/",
          "height": 51
        }
      },
      "source": [
        "inventario = {'kiwis': 430, 'bananas': 312, 'laranjas': 525, 'peras': 217}\n",
        "\n",
        "print(inventario)\n",
        "print(len(inventario))\n"
      ],
      "execution_count": null,
      "outputs": [
        {
          "output_type": "stream",
          "text": [
            "{'kiwis': 430, 'bananas': 312, 'laranjas': 525, 'peras': 217}\n",
            "4\n"
          ],
          "name": "stdout"
        }
      ]
    },
    {
      "cell_type": "code",
      "metadata": {
        "id": "QoS6kA_MBoWu"
      },
      "source": [
        "inventario['peras'] = 0"
      ],
      "execution_count": null,
      "outputs": []
    },
    {
      "cell_type": "code",
      "metadata": {
        "id": "rqre-cKrBuau",
        "outputId": "0c311004-3407-4464-f18d-4ec3ec9b1c91",
        "colab": {
          "base_uri": "https://localhost:8080/",
          "height": 34
        }
      },
      "source": [
        "print(inventario)"
      ],
      "execution_count": null,
      "outputs": [
        {
          "output_type": "stream",
          "text": [
            "{'kiwis': 430, 'bananas': 312, 'laranjas': 525, 'peras': 0}\n"
          ],
          "name": "stdout"
        }
      ]
    },
    {
      "cell_type": "markdown",
      "metadata": {
        "id": "z0Qmlrc1BF7d"
      },
      "source": [
        "O comando del remove um par chave-valor de um dicionário.  Se alguém compra todas as peras, podemos remover a entrada do dicionário."
      ]
    },
    {
      "cell_type": "code",
      "metadata": {
        "id": "QauvKSQBCA_7",
        "outputId": "aa7d9ac0-dc66-4b32-cd8d-a9ec94e1abf3",
        "colab": {
          "base_uri": "https://localhost:8080/",
          "height": 34
        }
      },
      "source": [
        "del inventario['peras']\n",
        "print(inventario)"
      ],
      "execution_count": null,
      "outputs": [
        {
          "output_type": "stream",
          "text": [
            "{'kiwis': 430, 'bananas': 312, 'laranjas': 525}\n"
          ],
          "name": "stdout"
        }
      ]
    },
    {
      "cell_type": "markdown",
      "metadata": {
        "id": "XdV6-AINJGXS"
      },
      "source": [
        "Para inserir novos dados no dicionário use a atribuição nessa forma:"
      ]
    },
    {
      "cell_type": "code",
      "metadata": {
        "id": "3buiEdWrI9Kj",
        "outputId": "76df15dd-fcba-4f86-a363-c978886b8eef",
        "colab": {
          "base_uri": "https://localhost:8080/",
          "height": 34
        }
      },
      "source": [
        "inventario['maças'] = 200\n",
        "print(inventario)"
      ],
      "execution_count": null,
      "outputs": [
        {
          "output_type": "stream",
          "text": [
            "{'kiwis': 430, 'bananas': 312, 'laranjas': 525, 'maças': 200}\n"
          ],
          "name": "stdout"
        }
      ]
    },
    {
      "cell_type": "markdown",
      "metadata": {
        "id": "bTnFpoZ5G1Tw"
      },
      "source": [
        "## Exercício 11:  (tarefa)\n",
        "\n",
        "Vetores esparsos: é comum em algumas aplicações manipular grandes coleções de dados onde somente alguns valores são relevantes. Nesse exercício você explorará o uso de dicionários para compactar uma lista cujos valores são majoritariamente 0. Escreva um script que, começando por uma lista de inteiros com 0s e valores não zero gere um dicionário de - para onde as chaves são as posições cujos valores são não zero, juntamente com seus valores. Em seguida mostre que consegue reproduzir a lista original só com o dicionário.\n",
        "\n",
        "entrada = [0, 0, 0, 1, 0, 0, 5, 0]\n",
        "\n",
        "dicionario = {3 : 1, 6 : 5}"
      ]
    },
    {
      "cell_type": "code",
      "metadata": {
        "id": "GxHib2f3CU9z"
      },
      "source": [
        ""
      ],
      "execution_count": null,
      "outputs": []
    },
    {
      "cell_type": "markdown",
      "metadata": {
        "id": "b16RUcEmYGHP"
      },
      "source": [
        "# Conjuntos\n",
        "\n",
        "Um conjunto (set) é um tipo de dados de coleção, suportando o operador de associação in, a função len() e é iterável. Conjuntos não possuem noção de ordem por isso seus elementos não podem ser acessados com colchetes [] nem podem ser fatiados.\n",
        "\n",
        "Os conjuntos (set) não aceitam valores repetidos ao tentar criar um conjunto com valores repetidos eles serão descartados só sobrando um valor do mesmo.\n",
        "\n",
        "## Criando um conjunto\n",
        "\n",
        "Conjuntos só aceitam tipos de dados imutáveis como inteiros, floats, tuplas e strings não aceitando listas, dicionários e outros conjuntos (set).\n",
        "\n",
        "Para criar um conjunto basta colocar os valores entre chaves {} :\n",
        "\n"
      ]
    },
    {
      "cell_type": "code",
      "metadata": {
        "id": "rLSrl3_uYOmz"
      },
      "source": [
        "c = {'Paulo', 'Claudio', 'Marcio', 'Erica'}"
      ],
      "execution_count": null,
      "outputs": []
    },
    {
      "cell_type": "code",
      "metadata": {
        "id": "Lkllx5PaYUWp",
        "outputId": "389d6fe5-3f0c-4575-8612-6fa47c384f14",
        "colab": {
          "base_uri": "https://localhost:8080/",
          "height": 34
        }
      },
      "source": [
        "type(c)"
      ],
      "execution_count": null,
      "outputs": [
        {
          "output_type": "execute_result",
          "data": {
            "text/plain": [
              "set"
            ]
          },
          "metadata": {
            "tags": []
          },
          "execution_count": 165
        }
      ]
    },
    {
      "cell_type": "code",
      "metadata": {
        "id": "z-7NTZmnYoUj",
        "outputId": "fa8663a4-63a0-43f1-ae12-0b9c6f9f1a5d",
        "colab": {
          "base_uri": "https://localhost:8080/",
          "height": 34
        }
      },
      "source": [
        "len(c)"
      ],
      "execution_count": null,
      "outputs": [
        {
          "output_type": "execute_result",
          "data": {
            "text/plain": [
              "4"
            ]
          },
          "metadata": {
            "tags": []
          },
          "execution_count": 166
        }
      ]
    },
    {
      "cell_type": "code",
      "metadata": {
        "id": "laL_cgg9YX8L",
        "outputId": "2af61c06-7327-4563-fb05-6538512778ac",
        "colab": {
          "base_uri": "https://localhost:8080/",
          "height": 85
        }
      },
      "source": [
        "for nome in c:\n",
        "  print(nome)"
      ],
      "execution_count": null,
      "outputs": [
        {
          "output_type": "stream",
          "text": [
            "Paulo\n",
            "Marcio\n",
            "Claudio\n",
            "Erica\n"
          ],
          "name": "stdout"
        }
      ]
    },
    {
      "cell_type": "markdown",
      "metadata": {
        "id": "80GCgv3YY2wu"
      },
      "source": [
        "O a sintaxe do método é s.add(x) onde adiciona ao conjunto s o elemento x se esse ainda não existir no conjunto:"
      ]
    },
    {
      "cell_type": "code",
      "metadata": {
        "id": "QByQkS9LY8Qr",
        "outputId": "a735f7d3-2043-4eb7-aaf5-893c4cac806a",
        "colab": {
          "base_uri": "https://localhost:8080/",
          "height": 34
        }
      },
      "source": [
        "c.add('João')\n",
        "print(c)"
      ],
      "execution_count": null,
      "outputs": [
        {
          "output_type": "stream",
          "text": [
            "{'Claudio', 'Erica', 'Paulo', 'João', 'Marcio'}\n"
          ],
          "name": "stdout"
        }
      ]
    },
    {
      "cell_type": "markdown",
      "metadata": {
        "id": "JobkXWUeZWAA"
      },
      "source": [
        "Para retirar um elemento do conjunto use discard:"
      ]
    },
    {
      "cell_type": "code",
      "metadata": {
        "id": "aKjHamqyZbPS",
        "outputId": "f98c8861-b91d-4838-b44c-0bcff717cdf1",
        "colab": {
          "base_uri": "https://localhost:8080/",
          "height": 34
        }
      },
      "source": [
        "c.discard('Erica')\n",
        "print(c)"
      ],
      "execution_count": null,
      "outputs": [
        {
          "output_type": "stream",
          "text": [
            "{'Claudio', 'Paulo', 'João', 'Marcio'}\n"
          ],
          "name": "stdout"
        }
      ]
    },
    {
      "cell_type": "markdown",
      "metadata": {
        "id": "MAYG8Oo_Zt0p"
      },
      "source": [
        "É possível adicionar um conjunto a outro:"
      ]
    },
    {
      "cell_type": "code",
      "metadata": {
        "id": "AeE56ru-Zymr",
        "outputId": "0d88de8c-778b-4bfb-cf64-b8a0a9e4f090",
        "colab": {
          "base_uri": "https://localhost:8080/",
          "height": 34
        }
      },
      "source": [
        "c.update({'Maria','José'})\n",
        "print(c)"
      ],
      "execution_count": null,
      "outputs": [
        {
          "output_type": "stream",
          "text": [
            "{'João', 'Marcio', 'Paulo', 'Maria', 'Claudio', 'José'}\n"
          ],
          "name": "stdout"
        }
      ]
    },
    {
      "cell_type": "markdown",
      "metadata": {
        "id": "mIJXy213Z_tU"
      },
      "source": [
        "Os conjuntos são bastante úteis quando se deseja realizar operações típicas desse tipo de estrutura, como as uniões, interseções e diferenças:"
      ]
    },
    {
      "cell_type": "code",
      "metadata": {
        "id": "c1YBlsYdaR4Y"
      },
      "source": [
        "d = {'Tiago','João','José','Carla'}"
      ],
      "execution_count": null,
      "outputs": []
    },
    {
      "cell_type": "code",
      "metadata": {
        "id": "W6u9JW9_ZE2G",
        "colab": {
          "base_uri": "https://localhost:8080/",
          "height": 34
        },
        "outputId": "6df60206-1dc1-43ef-84f0-9b9d4eed3b19"
      },
      "source": [
        "c"
      ],
      "execution_count": null,
      "outputs": [
        {
          "output_type": "execute_result",
          "data": {
            "text/plain": [
              "{'Claudio', 'João', 'Marcio', 'Paulo'}"
            ]
          },
          "metadata": {
            "tags": []
          },
          "execution_count": 172
        }
      ]
    },
    {
      "cell_type": "code",
      "metadata": {
        "id": "Yim8MyDsacXb",
        "outputId": "350420a6-5c3d-4033-f005-ea5e3a2a149f",
        "colab": {
          "base_uri": "https://localhost:8080/",
          "height": 34
        }
      },
      "source": [
        "c.difference(d)\n"
      ],
      "execution_count": null,
      "outputs": [
        {
          "output_type": "execute_result",
          "data": {
            "text/plain": [
              "{'Claudio', 'Marcio', 'Paulo'}"
            ]
          },
          "metadata": {
            "tags": []
          },
          "execution_count": 171
        }
      ]
    },
    {
      "cell_type": "code",
      "metadata": {
        "id": "S1JVQqcHavaB",
        "outputId": "85447150-3542-4806-db90-9419a6472066",
        "colab": {
          "base_uri": "https://localhost:8080/",
          "height": 34
        }
      },
      "source": [
        "d.difference(c)"
      ],
      "execution_count": null,
      "outputs": [
        {
          "output_type": "execute_result",
          "data": {
            "text/plain": [
              "{'Carla', 'José', 'Tiago'}"
            ]
          },
          "metadata": {
            "tags": []
          },
          "execution_count": 173
        }
      ]
    },
    {
      "cell_type": "code",
      "metadata": {
        "id": "wYAWHxUhaxRA",
        "outputId": "d92fc774-1949-42f4-c266-6c4247fd4ddb",
        "colab": {
          "base_uri": "https://localhost:8080/",
          "height": 34
        }
      },
      "source": [
        "d.intersection(c)"
      ],
      "execution_count": null,
      "outputs": [
        {
          "output_type": "execute_result",
          "data": {
            "text/plain": [
              "{'João'}"
            ]
          },
          "metadata": {
            "tags": []
          },
          "execution_count": 174
        }
      ]
    },
    {
      "cell_type": "code",
      "metadata": {
        "id": "o0tZnR4Ea29G",
        "outputId": "62d89a6c-097f-4031-b9ae-77bfde3b4ce0",
        "colab": {
          "base_uri": "https://localhost:8080/",
          "height": 34
        }
      },
      "source": [
        "d.union(c)"
      ],
      "execution_count": null,
      "outputs": [
        {
          "output_type": "execute_result",
          "data": {
            "text/plain": [
              "{'Carla', 'Claudio', 'José', 'João', 'Marcio', 'Paulo', 'Tiago'}"
            ]
          },
          "metadata": {
            "tags": []
          },
          "execution_count": 175
        }
      ]
    },
    {
      "cell_type": "markdown",
      "metadata": {
        "id": "L-bnywB8YkAN"
      },
      "source": [
        "Podemos ainda criar conjuntos a partir de uma lista ou tupla com set, uma grande vantagem é por exemplo limpar os dados repetidos em uma lista:"
      ]
    },
    {
      "cell_type": "code",
      "metadata": {
        "id": "JVtbtuioYlEC",
        "outputId": "b4c2dcf2-6321-45bf-c292-9b91fd329116",
        "colab": {
          "base_uri": "https://localhost:8080/",
          "height": 34
        }
      },
      "source": [
        "li = ['Maçã', 'Laranja', 'Uva', 'Abacaxi', 'Maçã', 'Abacate', 'Laranja']\n",
        "frutas = set(li)\n",
        "print(frutas)\n"
      ],
      "execution_count": null,
      "outputs": [
        {
          "output_type": "stream",
          "text": [
            "{'Laranja', 'Uva', 'Abacaxi', 'Abacate', 'Maçã'}\n"
          ],
          "name": "stdout"
        }
      ]
    },
    {
      "cell_type": "code",
      "metadata": {
        "id": "_SiEq7nCbMmG",
        "outputId": "9bbded57-be6a-4792-b8d2-7976b5e84a40",
        "colab": {
          "base_uri": "https://localhost:8080/",
          "height": 34
        }
      },
      "source": [
        "li = list(frutas)\n",
        "print(li)"
      ],
      "execution_count": null,
      "outputs": [
        {
          "output_type": "stream",
          "text": [
            "['Uva', 'Maçã', 'Abacaxi', 'Abacate', 'Laranja']\n"
          ],
          "name": "stdout"
        }
      ]
    },
    {
      "cell_type": "markdown",
      "metadata": {
        "id": "aviarGrkbaVq"
      },
      "source": [
        "## Exercício 12:\n",
        "\n",
        "Crie um conjunto com os elementos contidos na matriz criada no exercício 5 de forma a mostrar os números alí contidos sem repetição. "
      ]
    },
    {
      "cell_type": "code",
      "metadata": {
        "id": "F-aneLDVb6I5"
      },
      "source": [
        ""
      ],
      "execution_count": null,
      "outputs": []
    }
  ]
}