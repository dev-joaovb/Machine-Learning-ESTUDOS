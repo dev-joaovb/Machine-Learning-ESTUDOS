{
  "nbformat": 4,
  "nbformat_minor": 0,
  "metadata": {
    "colab": {
      "name": "ProjetoCRISP.ipynb",
      "provenance": [],
      "collapsed_sections": []
    },
    "kernelspec": {
      "name": "python3",
      "display_name": "Python 3"
    },
    "language_info": {
      "name": "python"
    }
  },
  "cells": [
    {
      "cell_type": "code",
      "metadata": {
        "id": "-4a3FxOGGeKe"
      },
      "source": [
        ""
      ],
      "execution_count": null,
      "outputs": []
    },
    {
      "cell_type": "markdown",
      "metadata": {
        "id": "hIZMUBHxGjSJ"
      },
      "source": [
        "# **... Projeto de Ciência de Dados [Metodologia CRISP-DM] ...**"
      ]
    },
    {
      "cell_type": "markdown",
      "metadata": {
        "id": "cpmIRHo2G0RE"
      },
      "source": [
        "# **1. COMPREENSÃO DO NEGÓCIO**"
      ]
    },
    {
      "cell_type": "markdown",
      "metadata": {
        "id": "GJS1xfPKHA-U"
      },
      "source": [
        "# **1.1\tDeterminando os objetivos do negócio**"
      ]
    },
    {
      "cell_type": "markdown",
      "metadata": {
        "id": "BcQVe9uaJKZi"
      },
      "source": [
        "## **Informações básicas sobre a situação atual do negócio**"
      ]
    },
    {
      "cell_type": "markdown",
      "metadata": {
        "id": "IhRoUo0WIFYe"
      },
      "source": [
        "*(i) Descrever a estrutura organizacional (organograma e projetos corporativos, com nomes e responsabilidades, identificando os stakeholders, patrocinadores e setores afetados pelo projeto);*"
      ]
    },
    {
      "cell_type": "markdown",
      "metadata": {
        "id": "GC59nxBLJlQK"
      },
      "source": [
        "xxx"
      ]
    },
    {
      "cell_type": "markdown",
      "metadata": {
        "id": "e-nRKJ_xIn2G"
      },
      "source": [
        "*(ii) Descrever o problema em termos gerais, o ecossistema (processos, recursos e atores) em que ele está inserido, motivações e pré-requisitos para o projeto, seu status na organização e experiências prévias em mineração de dados;*"
      ]
    },
    {
      "cell_type": "markdown",
      "metadata": {
        "id": "Kjly7FZXJmop"
      },
      "source": [
        "xxx"
      ]
    },
    {
      "cell_type": "markdown",
      "metadata": {
        "id": "FDKxRY5JIsNC"
      },
      "source": [
        "*(iii) Descrever a solução atual, suas vantagens, desvantagens e nível de aceitação na organização.*"
      ]
    },
    {
      "cell_type": "markdown",
      "metadata": {
        "id": "YRYihFR3JnpP"
      },
      "source": [
        "xxx"
      ]
    },
    {
      "cell_type": "markdown",
      "metadata": {
        "id": "9FJdRAG4JSIa"
      },
      "source": [
        "## **Objetivos do negócio do ponto de vista dos tomadores de decisão**"
      ]
    },
    {
      "cell_type": "markdown",
      "metadata": {
        "id": "v4PpRR8CJr5q"
      },
      "source": [
        "*(i) Descrever o problema do negócio que se quer abordar com Mineração de Dados;*"
      ]
    },
    {
      "cell_type": "markdown",
      "metadata": {
        "id": "hZqX5WHoJwwD"
      },
      "source": [
        "xxx"
      ]
    },
    {
      "cell_type": "markdown",
      "metadata": {
        "id": "cBEdXsWmJ4NX"
      },
      "source": [
        "*(ii) Especificar as questões associadas ao problema;*"
      ]
    },
    {
      "cell_type": "markdown",
      "metadata": {
        "id": "xj9WX5sPKAf2"
      },
      "source": [
        "xxx"
      ]
    },
    {
      "cell_type": "markdown",
      "metadata": {
        "id": "i3E0CZQiKByH"
      },
      "source": [
        "*(iii) Determinar quaisquer outros requisitos de negócio;*"
      ]
    },
    {
      "cell_type": "markdown",
      "metadata": {
        "id": "CkU6R-vLKGkS"
      },
      "source": [
        "xxx"
      ]
    },
    {
      "cell_type": "markdown",
      "metadata": {
        "id": "AOWOVMzwKHnZ"
      },
      "source": [
        "*(iv) Especificar benefícios esperados em termos de negócio.*"
      ]
    },
    {
      "cell_type": "markdown",
      "metadata": {
        "id": "41zNhInpKU9d"
      },
      "source": [
        "xxx"
      ]
    },
    {
      "cell_type": "markdown",
      "metadata": {
        "id": "KDxXHTGxKhdC"
      },
      "source": [
        "## **Critérios de sucesso do projeto**"
      ]
    },
    {
      "cell_type": "markdown",
      "metadata": {
        "id": "Oo_diYOpKlGS"
      },
      "source": [
        "*(i) Definir os critérios de sucesso do projeto;*"
      ]
    },
    {
      "cell_type": "markdown",
      "metadata": {
        "id": "HomufDtNKtLM"
      },
      "source": [
        "xxx"
      ]
    },
    {
      "cell_type": "markdown",
      "metadata": {
        "id": "XEFVSJ6WK3xA"
      },
      "source": [
        "*(ii) Definir os critérios de sucesso da mineração de dados para cada um dos objetivos do negócio;*"
      ]
    },
    {
      "cell_type": "markdown",
      "metadata": {
        "id": "ogNRlPTzK7NH"
      },
      "source": [
        "xxx"
      ]
    },
    {
      "cell_type": "markdown",
      "metadata": {
        "id": "oNs19jnrK8LB"
      },
      "source": [
        "*(iii) Definir os avaliadores das medidas de sucesso subjetivas. Se possível, anotar suas expectativas.*"
      ]
    },
    {
      "cell_type": "markdown",
      "metadata": {
        "id": "g3je0Ch8K_qA"
      },
      "source": [
        "xxx"
      ]
    },
    {
      "cell_type": "markdown",
      "metadata": {
        "id": "OKR3k_ZZLSpa"
      },
      "source": [
        "# **1.2\tAvaliando a situação**"
      ]
    },
    {
      "cell_type": "markdown",
      "metadata": {
        "id": "6N4Kusz6LarM"
      },
      "source": [
        "## **Inventário de recursos**"
      ]
    },
    {
      "cell_type": "markdown",
      "metadata": {
        "id": "d05ogSfrMEKe"
      },
      "source": [
        "*(i) Levantar recursos de hardware e de software disponíveis;*"
      ]
    },
    {
      "cell_type": "markdown",
      "metadata": {
        "id": "Wifs1YyRMOHe"
      },
      "source": [
        "xxx"
      ]
    },
    {
      "cell_type": "markdown",
      "metadata": {
        "id": "-a1Xvw4LMO5H"
      },
      "source": [
        "*(ii) Identificar fontes de dados e de conhecimento;*"
      ]
    },
    {
      "cell_type": "markdown",
      "metadata": {
        "id": "uu1ugviZMxXB"
      },
      "source": [
        "xxx"
      ]
    },
    {
      "cell_type": "markdown",
      "metadata": {
        "id": "DJf0YgZtMyU1"
      },
      "source": [
        "*(iii) Identificar recursos de pessoal técnico e de negócio.*"
      ]
    },
    {
      "cell_type": "markdown",
      "metadata": {
        "id": "l4yEj1ORM8bn"
      },
      "source": [
        "xxx"
      ]
    },
    {
      "cell_type": "markdown",
      "metadata": {
        "id": "dd-ZnR-AM9W9"
      },
      "source": [
        "## **Requisitos, suposições e restrições**"
      ]
    },
    {
      "cell_type": "markdown",
      "metadata": {
        "id": "uv4yI55DNDv1"
      },
      "source": [
        "*(i) Determinar os requisitos (ex: de segurança em relação aos dados e aos resultados do projeto);*"
      ]
    },
    {
      "cell_type": "markdown",
      "metadata": {
        "id": "S0e5w9mWNM6l"
      },
      "source": [
        "xxx"
      ]
    },
    {
      "cell_type": "markdown",
      "metadata": {
        "id": "qbNkPJHPNOOv"
      },
      "source": [
        "*(ii) Esclarecer os pressupostos (ex: sobre fatores econômicos, qualidade dos dados e apresentação dos resultados);*"
      ]
    },
    {
      "cell_type": "markdown",
      "metadata": {
        "id": "NNJr9EFwNYS5"
      },
      "source": [
        "xxx"
      ]
    },
    {
      "cell_type": "markdown",
      "metadata": {
        "id": "dKucCNq9NZB-"
      },
      "source": [
        "*(iii) Verificar restrições (ex: disponibilidade de senhas, financeiras, legais em relação ao acesso aos dados).*"
      ]
    },
    {
      "cell_type": "markdown",
      "metadata": {
        "id": "U8ZkxlVNNcGB"
      },
      "source": [
        "xxx"
      ]
    },
    {
      "cell_type": "markdown",
      "metadata": {
        "id": "yjSORnAONdS7"
      },
      "source": [
        "## **Riscos e contingências**"
      ]
    },
    {
      "cell_type": "markdown",
      "metadata": {
        "id": "IbiN82d3Nm6d"
      },
      "source": [
        "*(i) Identificar possíveis riscos (ex: atraso na execução do projeto, problemas orçamentários, qualidade dos dados e resultados pouco impactantes);*"
      ]
    },
    {
      "cell_type": "markdown",
      "metadata": {
        "id": "_R4_Ict2No17"
      },
      "source": [
        "xxx"
      ]
    },
    {
      "cell_type": "markdown",
      "metadata": {
        "id": "RmGxdACLNtps"
      },
      "source": [
        "*(ii) Elaborar um plano de contingência para cada possível risco.*"
      ]
    },
    {
      "cell_type": "markdown",
      "metadata": {
        "id": "Q1i40KPFNv2Z"
      },
      "source": [
        "xxx"
      ]
    },
    {
      "cell_type": "markdown",
      "metadata": {
        "id": "WODooMsmNxXZ"
      },
      "source": [
        "## **Levantamento da terminologia empregada**"
      ]
    },
    {
      "cell_type": "markdown",
      "metadata": {
        "id": "W5Pf9zJ2OsMb"
      },
      "source": [
        "*(i) Elaborar uma lista de termos ou jargões técnicos e de negócio relevantes para o projeto;*"
      ]
    },
    {
      "cell_type": "markdown",
      "metadata": {
        "id": "pzwOnIgvOxkj"
      },
      "source": [
        "xxx"
      ]
    },
    {
      "cell_type": "markdown",
      "metadata": {
        "id": "objbYI0wOyjl"
      },
      "source": [
        "*(ii) Compartilhar a lista com a equipe do projeto.*"
      ]
    },
    {
      "cell_type": "markdown",
      "metadata": {
        "id": "ZOp4UX2sO4T1"
      },
      "source": [
        "xxx"
      ]
    },
    {
      "cell_type": "markdown",
      "metadata": {
        "id": "dPp---VrO5YF"
      },
      "source": [
        "## **Análise de custo-benefício**"
      ]
    },
    {
      "cell_type": "markdown",
      "metadata": {
        "id": "mUNZPoZTO_x8"
      },
      "source": [
        "*(i) Identificar os custos de obtenção dos dados (internos ou externos), de implementação dos resultados e operacionais;*"
      ]
    },
    {
      "cell_type": "markdown",
      "metadata": {
        "id": "8DvEtz_tPCIl"
      },
      "source": [
        "xxx"
      ]
    },
    {
      "cell_type": "markdown",
      "metadata": {
        "id": "90Jsf5w1PDD7"
      },
      "source": [
        "*(ii) Identificar os benefícios esperados com o alcance dos objetivos do projeto (ex: melhor percepção do problema e do acervo de dados da organização).*"
      ]
    },
    {
      "cell_type": "markdown",
      "metadata": {
        "id": "qwj9sY_rPI_1"
      },
      "source": [
        "xxx"
      ]
    },
    {
      "cell_type": "markdown",
      "metadata": {
        "id": "CgRx9NmxPJ7A"
      },
      "source": [
        "# **1.3\tDeterminando os objetivos da mineração de dados**"
      ]
    },
    {
      "cell_type": "markdown",
      "metadata": {
        "id": "KkaPnZPcPVuY"
      },
      "source": [
        "## **Definição dos objetivos da mineração de dados**\n",
        "\n",
        "[***Nota***: Garanta que a implementação bem sucedida do modelo seja parte do sucesso da solução. Inclua a implementação no planejamento]"
      ]
    },
    {
      "cell_type": "markdown",
      "metadata": {
        "id": "mWLSVSuhQ2tr"
      },
      "source": [
        "*(i) Descrever o tipo de problema de mineração de dados (ex: agrupamento, classificação etc);*"
      ]
    },
    {
      "cell_type": "markdown",
      "metadata": {
        "id": "eHt-9z5CSMlJ"
      },
      "source": [
        "xxx"
      ]
    },
    {
      "cell_type": "markdown",
      "metadata": {
        "id": "uD3ZXLHpSNgm"
      },
      "source": [
        "*(ii) Enumerar as metas da mineração de dados (ex: predições válidas por três meses);*"
      ]
    },
    {
      "cell_type": "markdown",
      "metadata": {
        "id": "yBvEB_gihCIA"
      },
      "source": [
        "xxx"
      ]
    },
    {
      "cell_type": "markdown",
      "metadata": {
        "id": "YppProIMhDHD"
      },
      "source": [
        "*(iii) Quantificar os resultados desejados em relação à situação atual (ex: indicadores de perda de clientes).*"
      ]
    },
    {
      "cell_type": "markdown",
      "metadata": {
        "id": "a4OL-MmphING"
      },
      "source": [
        "xxx"
      ]
    },
    {
      "cell_type": "markdown",
      "metadata": {
        "id": "iEpjmRlGhJBK"
      },
      "source": [
        "## **Critérios de sucesso da mineração de dados**"
      ]
    },
    {
      "cell_type": "markdown",
      "metadata": {
        "id": "Mdu26Uy9hO24"
      },
      "source": [
        "*(i) Definir e descrever os métodos para avaliação do(s) modelo(s) (ex: precisão, desempenho, etc);*"
      ]
    },
    {
      "cell_type": "markdown",
      "metadata": {
        "id": "p5pVuu1HhUB6"
      },
      "source": [
        "xxx"
      ]
    },
    {
      "cell_type": "markdown",
      "metadata": {
        "id": "lJyN0IHRhazM"
      },
      "source": [
        "*(ii) Definir critérios objetivos (numéricos) de desempenho para avaliação do sucesso da mineração de dados);*"
      ]
    },
    {
      "cell_type": "markdown",
      "metadata": {
        "id": "gQQQANqPhcuT"
      },
      "source": [
        "xxx"
      ]
    },
    {
      "cell_type": "markdown",
      "metadata": {
        "id": "rFAGKrMkhdnP"
      },
      "source": [
        "*(iii) Especificar medidas subjetivas e determinar os responsáveis pelas avaliações.*"
      ]
    },
    {
      "cell_type": "markdown",
      "metadata": {
        "id": "nlgjTgy7hmwm"
      },
      "source": [
        "xxx"
      ]
    },
    {
      "cell_type": "markdown",
      "metadata": {
        "id": "7GdIoFSehqED"
      },
      "source": [
        "# **1.4\tProduzindo um plano do projeto**"
      ]
    },
    {
      "cell_type": "markdown",
      "metadata": {
        "id": "vf69hw07hvci"
      },
      "source": [
        "## **Plano do projeto do ponto de vista técnico**\n",
        "\n",
        "[***Nota***: Considerar que há fases que requerem iteração, em particular a de Construção do Modelo]"
      ]
    },
    {
      "cell_type": "markdown",
      "metadata": {
        "id": "IH1drumriM6q"
      },
      "source": [
        "*(i) Estimar o tempo necessário para se realizar cada fase ou atividade;*"
      ]
    },
    {
      "cell_type": "markdown",
      "metadata": {
        "id": "SsO5F0eWiO-j"
      },
      "source": [
        "xxx"
      ]
    },
    {
      "cell_type": "markdown",
      "metadata": {
        "id": "O3_Sdq8viQLq"
      },
      "source": [
        "*(ii) Estimar os esforços ou recursos necessários para a implementação dos resultados para a solução de negócio);*"
      ]
    },
    {
      "cell_type": "markdown",
      "metadata": {
        "id": "EKr4lvepiWIW"
      },
      "source": [
        "xxx"
      ]
    },
    {
      "cell_type": "markdown",
      "metadata": {
        "id": "e-1vYWyfiXNa"
      },
      "source": [
        "*(iii) Definir pontos de revisão e decisão no plano.*"
      ]
    },
    {
      "cell_type": "markdown",
      "metadata": {
        "id": "kmuvoDsCibRT"
      },
      "source": [
        "xxx"
      ]
    },
    {
      "cell_type": "markdown",
      "metadata": {
        "id": "_fl0Mr8Xib39"
      },
      "source": [
        "## **Avaliação de ferramentas e técnicas**"
      ]
    },
    {
      "cell_type": "markdown",
      "metadata": {
        "id": "5_06tCeaifdO"
      },
      "source": [
        "*(i) Avaliar as ferramentas disponíveis;*"
      ]
    },
    {
      "cell_type": "markdown",
      "metadata": {
        "id": "SfOYXY5gij0J"
      },
      "source": [
        "xxx"
      ]
    },
    {
      "cell_type": "markdown",
      "metadata": {
        "id": "wVLTU7YIil0x"
      },
      "source": [
        "*(ii) Avaliar os tipos de padrões produzidos por meio das técnicas escolhidas (ex: rede neural, árvore de decisão, etc).*"
      ]
    },
    {
      "cell_type": "markdown",
      "metadata": {
        "id": "M8KwiEN-irxA"
      },
      "source": [
        "xxx"
      ]
    },
    {
      "cell_type": "markdown",
      "metadata": {
        "id": "7jk4GNEqisTc"
      },
      "source": [
        ""
      ]
    },
    {
      "cell_type": "markdown",
      "metadata": {
        "id": "Krikk81bL7J1"
      },
      "source": [
        "# **Síntese da compreensão do negócio**\n"
      ]
    },
    {
      "cell_type": "markdown",
      "metadata": {
        "id": "KFc9QoVmhZwA"
      },
      "source": [
        "xxx"
      ]
    },
    {
      "cell_type": "markdown",
      "metadata": {
        "id": "q1t2I2DKxbGM"
      },
      "source": [
        "# **2. COMPREENSÃO DOS DADOS**"
      ]
    },
    {
      "cell_type": "markdown",
      "metadata": {
        "id": "QNtzB-wwxxtS"
      },
      "source": [
        "# **2.1 Coletando dados iniciais**\n",
        "\n",
        "[***Nota***: A consideração de fontes múltiplas de dados vai requerer sua integração, nesta fase ou na de preparação de dados mais à frente]"
      ]
    },
    {
      "cell_type": "markdown",
      "metadata": {
        "id": "4BZt_yHhyjiY"
      },
      "source": [
        "*(i) Identificar as bases de dados potencialmente relevantes para o projeto;*"
      ]
    },
    {
      "cell_type": "markdown",
      "metadata": {
        "id": "9LYctsYpynfd"
      },
      "source": [
        "xxx"
      ]
    },
    {
      "cell_type": "markdown",
      "metadata": {
        "id": "ttz0D5J_yoc9"
      },
      "source": [
        "*(ii) Para cada base, identificar os atributos mais promissores);*"
      ]
    },
    {
      "cell_type": "markdown",
      "metadata": {
        "id": "vpMZLG7HywYw"
      },
      "source": [
        "xxx"
      ]
    },
    {
      "cell_type": "markdown",
      "metadata": {
        "id": "snXZvxHdyw_U"
      },
      "source": [
        "*(iii) Identificar atributos que pareçam irrelevantes e que podem ser excluídos;*"
      ]
    },
    {
      "cell_type": "markdown",
      "metadata": {
        "id": "B-c4uiq5yzTb"
      },
      "source": [
        "xxx"
      ]
    },
    {
      "cell_type": "markdown",
      "metadata": {
        "id": "ZzOqijdBy0TN"
      },
      "source": [
        "*(iv) Verificar se há dados suficientes para conclusões generalizáveis ou predições acuradas;*"
      ]
    },
    {
      "cell_type": "markdown",
      "metadata": {
        "id": "ufa-8eT4y5Pr"
      },
      "source": [
        "xxx"
      ]
    },
    {
      "cell_type": "markdown",
      "metadata": {
        "id": "ehI2JApcy6LZ"
      },
      "source": [
        "*(v) Verificar a necessidade de redução de dimensionalidade dos dados;*"
      ]
    },
    {
      "cell_type": "markdown",
      "metadata": {
        "id": "_HznK4G1y9fm"
      },
      "source": [
        "xxx"
      ]
    },
    {
      "cell_type": "markdown",
      "metadata": {
        "id": "OZE6cgLuy-No"
      },
      "source": [
        "*(vi) Se você estiver considerando dados de diversas fontes, verifique a viabilidade ou possíveis problemas de se fazer sua junção;*"
      ]
    },
    {
      "cell_type": "markdown",
      "metadata": {
        "id": "OfQJbD9MzC0v"
      },
      "source": [
        "xxx"
      ]
    },
    {
      "cell_type": "markdown",
      "metadata": {
        "id": "MyPVKrcIzEPq"
      },
      "source": [
        "(vii) Verificar como os valores faltantes poderão ser tratados."
      ]
    },
    {
      "cell_type": "markdown",
      "metadata": {
        "id": "U3y8ErnQzINe"
      },
      "source": [
        "xxx"
      ]
    },
    {
      "cell_type": "markdown",
      "metadata": {
        "id": "bMq-V4ESzI70"
      },
      "source": [
        "# **2.2\tDescrevendo os dados**"
      ]
    },
    {
      "cell_type": "markdown",
      "metadata": {
        "id": "8qGDZL2YzZ9G"
      },
      "source": [
        "*(i) Verificar a formatação dos arquivos;*"
      ]
    },
    {
      "cell_type": "markdown",
      "metadata": {
        "id": "omNuJx4mzdzQ"
      },
      "source": [
        "xxx"
      ]
    },
    {
      "cell_type": "markdown",
      "metadata": {
        "id": "CSPiQ6zazes4"
      },
      "source": [
        "*(ii) Identificar o método usado para a captura dos dados);*"
      ]
    },
    {
      "cell_type": "markdown",
      "metadata": {
        "id": "lnLsPyoMzix3"
      },
      "source": [
        "xxx"
      ]
    },
    {
      "cell_type": "markdown",
      "metadata": {
        "id": "W7N0Oc56zja6"
      },
      "source": [
        "*(iii) Levantar o tamanho da(s) base(s) de dados (número de linhas e colunas);*"
      ]
    },
    {
      "cell_type": "markdown",
      "metadata": {
        "id": "rwEW7Khozo-Y"
      },
      "source": [
        "xxx"
      ]
    },
    {
      "cell_type": "markdown",
      "metadata": {
        "id": "marHgn2gzswl"
      },
      "source": [
        "*(iv) Descrever significado, relacionamentos, origem, uso e tipo dos atributos de cada base de dados (dicionários de dados);*"
      ]
    },
    {
      "cell_type": "markdown",
      "metadata": {
        "id": "KYCskFtozvt3"
      },
      "source": [
        "xxx"
      ]
    },
    {
      "cell_type": "markdown",
      "metadata": {
        "id": "8G3D2KpOzwVg"
      },
      "source": [
        "*(v) Verificar a relevância dos dados para o alcance dos objetivos do projeto;* "
      ]
    },
    {
      "cell_type": "markdown",
      "metadata": {
        "id": "2-LwqcDJz0mo"
      },
      "source": [
        "xxx"
      ]
    },
    {
      "cell_type": "markdown",
      "metadata": {
        "id": "PHnLE8Scz1ks"
      },
      "source": [
        "(vi) Calcular estatísticas básicas para os atributos-chave."
      ]
    },
    {
      "cell_type": "markdown",
      "metadata": {
        "id": "PQdxgvjRz4w7"
      },
      "source": [
        "xxx"
      ]
    },
    {
      "cell_type": "markdown",
      "metadata": {
        "id": "A1iOjZx5z5RA"
      },
      "source": [
        "# **2.3 Explorando os dados**"
      ]
    },
    {
      "cell_type": "markdown",
      "metadata": {
        "id": "oAHrD8Ad0Bbe"
      },
      "source": [
        "## **Exploração dos dados**"
      ]
    },
    {
      "cell_type": "markdown",
      "metadata": {
        "id": "4kXhlKWI0NPV"
      },
      "source": [
        "*(i) Formular hipóteses sobre os dados;*"
      ]
    },
    {
      "cell_type": "markdown",
      "metadata": {
        "id": "1_I5bLu_0O3P"
      },
      "source": [
        "xxx"
      ]
    },
    {
      "cell_type": "markdown",
      "metadata": {
        "id": "EHkrQ5EW0Phy"
      },
      "source": [
        "*(ii) Identificar atributos promissores para análise);*"
      ]
    },
    {
      "cell_type": "markdown",
      "metadata": {
        "id": "sAQn1hlg0UsR"
      },
      "source": [
        "xxx"
      ]
    },
    {
      "cell_type": "markdown",
      "metadata": {
        "id": "-3df3nXg0VXd"
      },
      "source": [
        "*(iii) Enumerar novas características sobre os dados reveladas pela sua exploração dos dados;*"
      ]
    },
    {
      "cell_type": "markdown",
      "metadata": {
        "id": "QMjDfpOA0gmS"
      },
      "source": [
        "xxx"
      ]
    },
    {
      "cell_type": "markdown",
      "metadata": {
        "id": "HbKP8w7N0hVL"
      },
      "source": [
        "*(iv) Relatar que mudanças nas hipóteses iniciais foram ocasionadas pela exploração dos dados;*"
      ]
    },
    {
      "cell_type": "markdown",
      "metadata": {
        "id": "blWeOp820kjW"
      },
      "source": [
        "xxx"
      ]
    },
    {
      "cell_type": "markdown",
      "metadata": {
        "id": "B6SYs_BO0lRB"
      },
      "source": [
        "*(v) Identificar subconjuntos particulares dos dados para uso posterior;*"
      ]
    },
    {
      "cell_type": "markdown",
      "metadata": {
        "id": "DhKyrz7P0qRW"
      },
      "source": [
        "xxx"
      ]
    },
    {
      "cell_type": "markdown",
      "metadata": {
        "id": "tH2UGt9U0rMq"
      },
      "source": [
        "*(vi) Verificar se o resultado da exploração dos dados justifica a alteração dos objetivos do projeto ou da mineração de dados.*"
      ]
    },
    {
      "cell_type": "markdown",
      "metadata": {
        "id": "RaK3M2B80ub7"
      },
      "source": [
        "xxx"
      ]
    },
    {
      "cell_type": "markdown",
      "metadata": {
        "id": "4O6E9uzH0vKh"
      },
      "source": [
        "## **Qualidade dos dados**"
      ]
    },
    {
      "cell_type": "markdown",
      "metadata": {
        "id": "Si9VLOj_041k"
      },
      "source": [
        "*(i) Verificar se há valores de atributo faltantes ou em branco e explicitar o que isso significa;*"
      ]
    },
    {
      "cell_type": "markdown",
      "metadata": {
        "id": "jB7-xCZj07Bt"
      },
      "source": [
        "xxx"
      ]
    },
    {
      "cell_type": "markdown",
      "metadata": {
        "id": "W_Vp3ysz07rE"
      },
      "source": [
        "*(ii) Verificar se existem inconsistências ortográficas que podem causar problemas em junções ou transformações nos dados); *"
      ]
    },
    {
      "cell_type": "markdown",
      "metadata": {
        "id": "dFzVmFyh0-4k"
      },
      "source": [
        "xxx"
      ]
    },
    {
      "cell_type": "markdown",
      "metadata": {
        "id": "4S6ffMHz0_ZY"
      },
      "source": [
        "*(iii) Verificar se há desvios nos valores dos dados (outliers) e se isso é ruído ou tem algum significado;*"
      ]
    },
    {
      "cell_type": "markdown",
      "metadata": {
        "id": "L9TSKmT01DfC"
      },
      "source": [
        "xxx"
      ]
    },
    {
      "cell_type": "markdown",
      "metadata": {
        "id": "zgMW_sjT1EXi"
      },
      "source": [
        "*(iv) Checar a plausibilidade dos valores dos dados e registrar eventuais conflitos;*"
      ]
    },
    {
      "cell_type": "markdown",
      "metadata": {
        "id": "8fu36rgI1Mcv"
      },
      "source": [
        "xxx"
      ]
    },
    {
      "cell_type": "markdown",
      "metadata": {
        "id": "ISx07_zi1NJR"
      },
      "source": [
        "*(v) Verificar a possibilidade de excluir dados que não tenham impacto nas hipóteses;*"
      ]
    },
    {
      "cell_type": "markdown",
      "metadata": {
        "id": "Jj2khxmD1QuQ"
      },
      "source": [
        "xxx"
      ]
    },
    {
      "cell_type": "markdown",
      "metadata": {
        "id": "V_O1XYce1R4h"
      },
      "source": [
        "*(vi) Verificar se os dados estão corretamente separados por delimitadores e se há o mesmo número de campos em cada linha;*"
      ]
    },
    {
      "cell_type": "markdown",
      "metadata": {
        "id": "pZGjdkG_1VLn"
      },
      "source": [
        "xxx"
      ]
    },
    {
      "cell_type": "markdown",
      "metadata": {
        "id": "8eu-8TMD1V7G"
      },
      "source": [
        "*(vii) Verificar se a qualidade dos dados justifica a alteração dos objetivos do projeto ou da mineração dos dados.*"
      ]
    },
    {
      "cell_type": "markdown",
      "metadata": {
        "id": "YeBccXxM1Y3c"
      },
      "source": [
        "xxx"
      ]
    },
    {
      "cell_type": "markdown",
      "metadata": {
        "id": "VRSW1GM_1Z2z"
      },
      "source": [
        "# **Síntese da compreensão dos dados**"
      ]
    },
    {
      "cell_type": "markdown",
      "metadata": {
        "id": "X-yhZ9cT1hqZ"
      },
      "source": [
        "xxx"
      ]
    },
    {
      "cell_type": "markdown",
      "metadata": {
        "id": "Rk8it01u101z"
      },
      "source": [
        "# **3. PREPARAÇÃO DOS DADOS**"
      ]
    },
    {
      "cell_type": "markdown",
      "metadata": {
        "id": "yWoGuWaW18n1"
      },
      "source": [
        "# **3.1 Selecionando os dados**"
      ]
    },
    {
      "cell_type": "markdown",
      "metadata": {
        "id": "Gh7H4ubL2avK"
      },
      "source": [
        "*(i) Verificar a existência de atributos especialmente relevantes para os objetivos da mineração de dados;*"
      ]
    },
    {
      "cell_type": "markdown",
      "metadata": {
        "id": "4M81yrYA2czM"
      },
      "source": [
        "xxx"
      ]
    },
    {
      "cell_type": "markdown",
      "metadata": {
        "id": "JfNkEgRb2d1U"
      },
      "source": [
        "*(ii) Identificar se há problemas de qualidade em um conjunto de dados ou um atributo que possa comprometer a validade dos resultados);*"
      ]
    },
    {
      "cell_type": "markdown",
      "metadata": {
        "id": "mDJwH9Zk2kOc"
      },
      "source": [
        "xxx"
      ]
    },
    {
      "cell_type": "markdown",
      "metadata": {
        "id": "p8MOr-_n2kxJ"
      },
      "source": [
        "*(iii) Verificar a possibilidade e as formas de sanar esses problemas;*"
      ]
    },
    {
      "cell_type": "markdown",
      "metadata": {
        "id": "8Oz-4AMS2mgB"
      },
      "source": [
        "xxx"
      ]
    },
    {
      "cell_type": "markdown",
      "metadata": {
        "id": "Hi_oJGbf2m7V"
      },
      "source": [
        "*(iv) Verificar se há alguma restrição quanto ao uso de atributos específicos;*"
      ]
    },
    {
      "cell_type": "markdown",
      "metadata": {
        "id": "WjzUMwaG2rRL"
      },
      "source": [
        "xxx"
      ]
    },
    {
      "cell_type": "markdown",
      "metadata": {
        "id": "pXmaRzKN2r4z"
      },
      "source": [
        "*(v) Efetuar a limpeza de dados.*"
      ]
    },
    {
      "cell_type": "markdown",
      "metadata": {
        "id": "rfpZOjtw2vt7"
      },
      "source": [
        "xxx"
      ]
    },
    {
      "cell_type": "markdown",
      "metadata": {
        "id": "FBJttyp62wKz"
      },
      "source": [
        "# **3.2\tLimpando os dados**"
      ]
    },
    {
      "cell_type": "markdown",
      "metadata": {
        "id": "1EVpbC6J3Yg4"
      },
      "source": [
        "*(i) Relacionar os tipos de ruídos que ocorrem nos dados;*"
      ]
    },
    {
      "cell_type": "markdown",
      "metadata": {
        "id": "rfSkwWVn3dZ0"
      },
      "source": [
        "xxx"
      ]
    },
    {
      "cell_type": "markdown",
      "metadata": {
        "id": "Fs9eceUm3et7"
      },
      "source": [
        "*(ii) Detalhar que abordagens e técnicas que podem ser utilizadas para remover esses ruídos);*"
      ]
    },
    {
      "cell_type": "markdown",
      "metadata": {
        "id": "NEW3CR743lxi"
      },
      "source": [
        "xxx"
      ]
    },
    {
      "cell_type": "markdown",
      "metadata": {
        "id": "tCoPYM-j3nlw"
      },
      "source": [
        "*(iii) Efetuar a limpeza de dados;* "
      ]
    },
    {
      "cell_type": "markdown",
      "metadata": {
        "id": "_tdyV5hh3taY"
      },
      "source": [
        "xxx"
      ]
    },
    {
      "cell_type": "markdown",
      "metadata": {
        "id": "Njm-aGhR3uUi"
      },
      "source": [
        "*(iv) Relatar se houve atributos com ruídos que não puderam ser recuperados.*"
      ]
    },
    {
      "cell_type": "markdown",
      "metadata": {
        "id": "zzMAT1pc3ySW"
      },
      "source": [
        "xxx"
      ]
    },
    {
      "cell_type": "markdown",
      "metadata": {
        "id": "WNqx9_Ru3ysq"
      },
      "source": [
        "# **3.3\tConstruindo novos dados**"
      ]
    },
    {
      "cell_type": "markdown",
      "metadata": {
        "id": "qlTb7gVM4ASp"
      },
      "source": [
        "*(i) Verificar se os dados estão de acordo com o que é esperado pelo algoritmo de mineração de dados escolhido e, se preciso, realizar as transformações necessárias;*"
      ]
    },
    {
      "cell_type": "markdown",
      "metadata": {
        "id": "z1cJZuah4FFZ"
      },
      "source": [
        "xxx"
      ]
    },
    {
      "cell_type": "markdown",
      "metadata": {
        "id": "1_KDjmeO4Grm"
      },
      "source": [
        "*(ii) Se preciso, realizar a normalização de atributos);*"
      ]
    },
    {
      "cell_type": "markdown",
      "metadata": {
        "id": "OpVXE8-F4LH8"
      },
      "source": [
        "xxx"
      ]
    },
    {
      "cell_type": "markdown",
      "metadata": {
        "id": "oM8yxxts4ORE"
      },
      "source": [
        "*(iii) Definir e aplicar abordagens para tratamento de dados faltantes;*"
      ]
    },
    {
      "cell_type": "markdown",
      "metadata": {
        "id": "113xRmqt4QOF"
      },
      "source": [
        "xxx"
      ]
    },
    {
      "cell_type": "markdown",
      "metadata": {
        "id": "462xbCS_4Qtp"
      },
      "source": [
        "*(iv) Verificar a possibilidade de se criar atributos relevantes a partir dos atributos existentes;*"
      ]
    },
    {
      "cell_type": "markdown",
      "metadata": {
        "id": "yHG34nQf4T2v"
      },
      "source": [
        "xxx"
      ]
    },
    {
      "cell_type": "markdown",
      "metadata": {
        "id": "mvGOhKET4VSI"
      },
      "source": [
        "*(v) Verificar a necessidade de se aplicar oversampling ou undersampling no caso de bases desbalanceadas;*"
      ]
    },
    {
      "cell_type": "markdown",
      "metadata": {
        "id": "dY0V4ZHR4ZMc"
      },
      "source": [
        "xxx"
      ]
    },
    {
      "cell_type": "markdown",
      "metadata": {
        "id": "4tzQ5VoK4Zr8"
      },
      "source": [
        "*(vi) Efetuar a geração de novos atributos e registros.*"
      ]
    },
    {
      "cell_type": "markdown",
      "metadata": {
        "id": "_xWM2jIG6BbK"
      },
      "source": [
        "xxx"
      ]
    },
    {
      "cell_type": "markdown",
      "metadata": {
        "id": "Ze4QfeXs6CCq"
      },
      "source": [
        "# **3.4\tIntegrando os dados**"
      ]
    },
    {
      "cell_type": "markdown",
      "metadata": {
        "id": "-ske-8iO6cmQ"
      },
      "source": [
        "*(i) Integrar (importação de linhas ou colunas) os conjuntos de dados considerados úteis para a mineração de dados;*"
      ]
    },
    {
      "cell_type": "markdown",
      "metadata": {
        "id": "tmvKbVuE6d_3"
      },
      "source": [
        "xxx"
      ]
    },
    {
      "cell_type": "markdown",
      "metadata": {
        "id": "L7rsmF7v6eeo"
      },
      "source": [
        "*(ii) Gerar uma base única de dados para a mineração de dados);*"
      ]
    },
    {
      "cell_type": "markdown",
      "metadata": {
        "id": "7tAHWzRh6h-i"
      },
      "source": [
        "xxx"
      ]
    },
    {
      "cell_type": "markdown",
      "metadata": {
        "id": "E6yH27sm6ixT"
      },
      "source": [
        "*(iii) Verificar a necessidade de construção de novos dados.*"
      ]
    },
    {
      "cell_type": "markdown",
      "metadata": {
        "id": "Ib7CZb396l1Z"
      },
      "source": [
        "xxx"
      ]
    },
    {
      "cell_type": "markdown",
      "metadata": {
        "id": "JpJdy6Pb6mSk"
      },
      "source": [
        "# **3.5\tFormatando os dados**"
      ]
    },
    {
      "cell_type": "markdown",
      "metadata": {
        "id": "yf1KOCwV8Wlm"
      },
      "source": [
        "*(i) Verificar as formatações necessárias para utilização da ferramenta de mineração de dados escolhida;*"
      ]
    },
    {
      "cell_type": "markdown",
      "metadata": {
        "id": "BvdJ6A0a8aKJ"
      },
      "source": [
        "xxx"
      ]
    },
    {
      "cell_type": "markdown",
      "metadata": {
        "id": "nIfCMASN8a_c"
      },
      "source": [
        "*(ii) Transpor a base de dados para o formato apropriado.*"
      ]
    },
    {
      "cell_type": "markdown",
      "metadata": {
        "id": "DLtmLz4R8gRs"
      },
      "source": [
        "xxx"
      ]
    },
    {
      "cell_type": "markdown",
      "metadata": {
        "id": "7BgLCuM48hmu"
      },
      "source": [
        "# **Síntese da preparação dos dados**"
      ]
    },
    {
      "cell_type": "markdown",
      "metadata": {
        "id": "QVxkpBIB9hGD"
      },
      "source": [
        "xxx"
      ]
    },
    {
      "cell_type": "markdown",
      "metadata": {
        "id": "Qhtnwzsz9h2v"
      },
      "source": [
        "# **4. MODELAGEM**"
      ]
    },
    {
      "cell_type": "markdown",
      "metadata": {
        "id": "oF2tjIC89nG_"
      },
      "source": [
        "# **4.1\tSelecionando a(s) técnica(s) de modelagem**"
      ]
    },
    {
      "cell_type": "markdown",
      "metadata": {
        "id": "nc8HS7yc9ywm"
      },
      "source": [
        "*(i) Verificar se o modelo a ser criado requer o particionamento dos dados em dados de treinamento e de teste;*"
      ]
    },
    {
      "cell_type": "markdown",
      "metadata": {
        "id": "GMa5ll7_91ee"
      },
      "source": [
        "xxx"
      ]
    },
    {
      "cell_type": "markdown",
      "metadata": {
        "id": "arIgNein92a6"
      },
      "source": [
        "*(ii) Verificar se há dados suficientes para se produzir um modelo confiável);*"
      ]
    },
    {
      "cell_type": "markdown",
      "metadata": {
        "id": "hFrFK7bh98C3"
      },
      "source": [
        "xxx"
      ]
    },
    {
      "cell_type": "markdown",
      "metadata": {
        "id": "4-IRPhJD9868"
      },
      "source": [
        "*(iii) Verificar se os dados possuem qualidade suficiente para se produzir um modelo confiável;*"
      ]
    },
    {
      "cell_type": "markdown",
      "metadata": {
        "id": "W5LWQ-KH-G7r"
      },
      "source": [
        "xxx"
      ]
    },
    {
      "cell_type": "markdown",
      "metadata": {
        "id": "jDLo492v-HZZ"
      },
      "source": [
        "*(iv) Verificar se os tipos de dados são apropriados para o modelo a ser construído;*"
      ]
    },
    {
      "cell_type": "markdown",
      "metadata": {
        "id": "AjIhTpuF-J2d"
      },
      "source": [
        "xxx"
      ]
    },
    {
      "cell_type": "markdown",
      "metadata": {
        "id": "tGaMWdlg-KhW"
      },
      "source": [
        "*(v) Adequar os dados às necessidades da técnica de mineração de dados a ser utilizada.*"
      ]
    },
    {
      "cell_type": "markdown",
      "metadata": {
        "id": "kAqG683q-Om8"
      },
      "source": [
        "xxx"
      ]
    },
    {
      "cell_type": "markdown",
      "metadata": {
        "id": "7jaFsoCr-PHn"
      },
      "source": [
        "# **4.2\tProjetando o teste**"
      ]
    },
    {
      "cell_type": "markdown",
      "metadata": {
        "id": "VJZcnJ56-gl3"
      },
      "source": [
        "*(i) Especificar o esquema de teste do modelo a ser criado (ex: utilização de máquinas de comitê, separação da base de dados em treinamento e teste, parâmetros para essa divisão, etc);*"
      ]
    },
    {
      "cell_type": "markdown",
      "metadata": {
        "id": "qlfbSku3-ivx"
      },
      "source": [
        "xxx"
      ]
    },
    {
      "cell_type": "markdown",
      "metadata": {
        "id": "LyRr8UP5-jK0"
      },
      "source": [
        "*(ii) Definir qual a medida de sucesso para modelos);*"
      ]
    },
    {
      "cell_type": "markdown",
      "metadata": {
        "id": "aYihlL_Y-n5y"
      },
      "source": [
        "xxx"
      ]
    },
    {
      "cell_type": "markdown",
      "metadata": {
        "id": "aRPXvD6z-oj-"
      },
      "source": [
        "*(iii) Definir estratégias para se testar um modelo quanto à sua efetividade em relação aos objetivos da mineração de dados.*"
      ]
    },
    {
      "cell_type": "markdown",
      "metadata": {
        "id": "fJTFGjxA-smp"
      },
      "source": [
        "xxx"
      ]
    },
    {
      "cell_type": "markdown",
      "metadata": {
        "id": "V87rCGqB-tAN"
      },
      "source": [
        "# **4.3 Construindo o(s) modelo(s)**"
      ]
    },
    {
      "cell_type": "markdown",
      "metadata": {
        "id": "wSm7uaTj-0qo"
      },
      "source": [
        "*(i) Calibrar os parâmetros do algoritmo que implementa a técnica de modelagem escolhida;*"
      ]
    },
    {
      "cell_type": "markdown",
      "metadata": {
        "id": "CcdTJp2D-4zY"
      },
      "source": [
        "xxx"
      ]
    },
    {
      "cell_type": "markdown",
      "metadata": {
        "id": "Ob2vnjI0-5Ra"
      },
      "source": [
        "*(ii) Gerar o(s) modelo(s);*"
      ]
    },
    {
      "cell_type": "markdown",
      "metadata": {
        "id": "tzws7dQH--mh"
      },
      "source": [
        "xxx"
      ]
    },
    {
      "cell_type": "markdown",
      "metadata": {
        "id": "DqNrq842-_Bt"
      },
      "source": [
        "*(iii) Descrever os resultados do(s) modelo(s), incluindo indicadores de desempenho, problemas durante a execução e achados a partir da exploração do modelo (ex: novos insights, padrões úteis, problemas de execução e inconsistências).*"
      ]
    },
    {
      "cell_type": "markdown",
      "metadata": {
        "id": "_CNyGIWM_EHN"
      },
      "source": [
        "xxx"
      ]
    },
    {
      "cell_type": "markdown",
      "metadata": {
        "id": "es1ehV6-_Eh6"
      },
      "source": [
        "# **4.4\tAvaliando o(s) modelo(s)**"
      ]
    },
    {
      "cell_type": "markdown",
      "metadata": {
        "id": "mCOsihQ__Q4k"
      },
      "source": [
        "*(i) Avaliar os resultados do(s) modelo(s), considerando os indicadores de qualidade;*"
      ]
    },
    {
      "cell_type": "markdown",
      "metadata": {
        "id": "YBAjaQj7_Sz9"
      },
      "source": [
        "xxx"
      ]
    },
    {
      "cell_type": "markdown",
      "metadata": {
        "id": "W2Viheb1_TPY"
      },
      "source": [
        "*(ii) Realizar uma revisão dos resultados baseado no entendimento do problema do negócio (na perspectiva dos cientistas de dados e dos especialistas do negócio);*"
      ]
    },
    {
      "cell_type": "markdown",
      "metadata": {
        "id": "NtYAoZRT_XWA"
      },
      "source": [
        "xxx"
      ]
    },
    {
      "cell_type": "markdown",
      "metadata": {
        "id": "3IN9MTs0_X0Q"
      },
      "source": [
        "*(iii) Verificar se os resultados dos modelos são facilmente aproveitáveis na prática;*"
      ]
    },
    {
      "cell_type": "markdown",
      "metadata": {
        "id": "F7yks3Ko_cMO"
      },
      "source": [
        "xxx"
      ]
    },
    {
      "cell_type": "markdown",
      "metadata": {
        "id": "kT_byfsX_cmv"
      },
      "source": [
        "*(iv) Analisar o impacto dos resultados dos modelos tendo em vista os critérios de sucesso da mineração definidos anteriormente;*"
      ]
    },
    {
      "cell_type": "markdown",
      "metadata": {
        "id": "MXcd10tS_gC5"
      },
      "source": [
        "xxx"
      ]
    },
    {
      "cell_type": "markdown",
      "metadata": {
        "id": "WT5gcZKl_i6C"
      },
      "source": [
        "*(v) Ranquear o(s) modelos, escolher o(s) modelo(s) mais adequado(s) para solucionar o problema de negócio e fundamentar essa escolha.*"
      ]
    },
    {
      "cell_type": "markdown",
      "metadata": {
        "id": "kJa7ARnc_k8F"
      },
      "source": [
        "xxx"
      ]
    },
    {
      "cell_type": "markdown",
      "metadata": {
        "id": "xqPeUyjj_lef"
      },
      "source": [
        "# **Síntese da modelagem**"
      ]
    },
    {
      "cell_type": "markdown",
      "metadata": {
        "id": "70W75Yzx_qUG"
      },
      "source": [
        "xxx"
      ]
    },
    {
      "cell_type": "markdown",
      "metadata": {
        "id": "8C_kc3qm_rLX"
      },
      "source": [
        "# **5. AVALIAÇÃO**"
      ]
    },
    {
      "cell_type": "markdown",
      "metadata": {
        "id": "pDBSuAGXABZ8"
      },
      "source": [
        "# **5.1\tAvaliando os resultados**"
      ]
    },
    {
      "cell_type": "markdown",
      "metadata": {
        "id": "sQtUC1u1AKPD"
      },
      "source": [
        "*(i) Verificar se os resultados apresentados estão inteligíveis;*"
      ]
    },
    {
      "cell_type": "markdown",
      "metadata": {
        "id": "zwcoBOYBALpW"
      },
      "source": [
        "xxx"
      ]
    },
    {
      "cell_type": "markdown",
      "metadata": {
        "id": "w8tCg53GAMGT"
      },
      "source": [
        "*(ii) Verificar se existem achados particularmente interessantes que mereçam ser enfatizados;*"
      ]
    },
    {
      "cell_type": "markdown",
      "metadata": {
        "id": "tu1zgUeDAR20"
      },
      "source": [
        "xxx"
      ]
    },
    {
      "cell_type": "markdown",
      "metadata": {
        "id": "qnaLkiZBASQa"
      },
      "source": [
        "*(iii) Ranquear os modelos e achados de acordo com a sua aplicabilidade aos objetivos do negócio;*"
      ]
    },
    {
      "cell_type": "markdown",
      "metadata": {
        "id": "k4RU4s4HAXrk"
      },
      "source": [
        "xxx"
      ]
    },
    {
      "cell_type": "markdown",
      "metadata": {
        "id": "V-l_ZD20AYCo"
      },
      "source": [
        "*(iv) Selecionar o(s) modelo(s) que serão efetivamente utilizados;*"
      ]
    },
    {
      "cell_type": "markdown",
      "metadata": {
        "id": "CdT7DzDuAciq"
      },
      "source": [
        "xxx"
      ]
    },
    {
      "cell_type": "markdown",
      "metadata": {
        "id": "hvTlmoAxAc7g"
      },
      "source": [
        "*(v) Analisar até que ponto os resultados respondem aos objetivos do negócio;*"
      ]
    },
    {
      "cell_type": "markdown",
      "metadata": {
        "id": "v1dlj5OXAgw-"
      },
      "source": [
        "xxx"
      ]
    },
    {
      "cell_type": "markdown",
      "metadata": {
        "id": "bxyPdXSTAh9R"
      },
      "source": [
        "*(vi) Identificar questões adicionais que tenham surgido a partir dos resultados, em relação às metas do negócio.*"
      ]
    },
    {
      "cell_type": "markdown",
      "metadata": {
        "id": "Re0lYE3rAmBZ"
      },
      "source": [
        "xxx"
      ]
    },
    {
      "cell_type": "markdown",
      "metadata": {
        "id": "I_nR3mlCAmsZ"
      },
      "source": [
        "# **5.2\tRevisando os processos**"
      ]
    },
    {
      "cell_type": "markdown",
      "metadata": {
        "id": "QEk0nc34A0O0"
      },
      "source": [
        "*(i) Verificar de que forma a fase/tarefa contribuiu para os resultados finais;*"
      ]
    },
    {
      "cell_type": "markdown",
      "metadata": {
        "id": "W4nIYu6FA2Ol"
      },
      "source": [
        "xxx"
      ]
    },
    {
      "cell_type": "markdown",
      "metadata": {
        "id": "j-p-9IIaA2u-"
      },
      "source": [
        "*(ii) Verificar se há meios de se melhorar esta fase/tarefa;*"
      ]
    },
    {
      "cell_type": "markdown",
      "metadata": {
        "id": "OkILgsVjA7EK"
      },
      "source": [
        "xxx"
      ]
    },
    {
      "cell_type": "markdown",
      "metadata": {
        "id": "0rPukMcgA7ed"
      },
      "source": [
        "*(iii) Identificar as falhas ou erros desta fase/tarefa e como evitá-los no futuro;*"
      ]
    },
    {
      "cell_type": "markdown",
      "metadata": {
        "id": "sNveX0LrA_yQ"
      },
      "source": [
        "xxx"
      ]
    },
    {
      "cell_type": "markdown",
      "metadata": {
        "id": "zLQfn7xrBAJ3"
      },
      "source": [
        "*(iv) Verificar se houve impasses (ex.: modelos específicos que se mostraram inadequados) e se existem maneiras de prever tais impasses para evitar desperdício de esforços;*"
      ]
    },
    {
      "cell_type": "markdown",
      "metadata": {
        "id": "xgfiDhK5BEZO"
      },
      "source": [
        "xxx"
      ]
    },
    {
      "cell_type": "markdown",
      "metadata": {
        "id": "w9SjyidqBE9j"
      },
      "source": [
        "*(v) Identificar surpresas positivas ou negativas durante a execução da fase/tarefa;*"
      ]
    },
    {
      "cell_type": "markdown",
      "metadata": {
        "id": "-SnVkImaBJkd"
      },
      "source": [
        "xxx"
      ]
    },
    {
      "cell_type": "markdown",
      "metadata": {
        "id": "10_qNAirBKAt"
      },
      "source": [
        "*(vi) Verificar a existência de decisões ou estratégias alternativas que poderiam ser usadas em uma dada fase/tarefa.*"
      ]
    },
    {
      "cell_type": "markdown",
      "metadata": {
        "id": "fFya5leABPAn"
      },
      "source": [
        "xxx"
      ]
    },
    {
      "cell_type": "markdown",
      "metadata": {
        "id": "ET6HADZNBPdC"
      },
      "source": [
        "# **5.3\tDeterminando os próximos passos**"
      ]
    },
    {
      "cell_type": "markdown",
      "metadata": {
        "id": "JGOvJiPvBZ8n"
      },
      "source": [
        "*(i) Avaliar os resultados da mineração;*"
      ]
    },
    {
      "cell_type": "markdown",
      "metadata": {
        "id": "Z8RZ1ScGBbZO"
      },
      "source": [
        "xxx"
      ]
    },
    {
      "cell_type": "markdown",
      "metadata": {
        "id": "g4YzybKgBb53"
      },
      "source": [
        "*(ii) Decidir as próximas ações.*"
      ]
    },
    {
      "cell_type": "markdown",
      "metadata": {
        "id": "SampWLQUBfVw"
      },
      "source": [
        "xxx"
      ]
    },
    {
      "cell_type": "markdown",
      "metadata": {
        "id": "OXtibWQ3Bfu3"
      },
      "source": [
        "# **Síntese da avaliação**"
      ]
    },
    {
      "cell_type": "markdown",
      "metadata": {
        "id": "YuLxin0sBkbN"
      },
      "source": [
        "xxx"
      ]
    },
    {
      "cell_type": "markdown",
      "metadata": {
        "id": "Gn4mDfq4Bk_L"
      },
      "source": [
        "# **6. IMPLEMENTAÇÃO**"
      ]
    },
    {
      "cell_type": "markdown",
      "metadata": {
        "id": "RUQF5geSCQAP"
      },
      "source": [
        "# **6.1 Planejando a implementação**"
      ]
    },
    {
      "cell_type": "markdown",
      "metadata": {
        "id": "MswTr6eSCTpk"
      },
      "source": [
        "*(i) Sumarizar os resultados (modelos e achados) para fins de integração com sistemas de informação e de compartilhamento com a equipe;*"
      ]
    },
    {
      "cell_type": "markdown",
      "metadata": {
        "id": "CLAZCWcTCbYB"
      },
      "source": [
        "xxx"
      ]
    },
    {
      "cell_type": "markdown",
      "metadata": {
        "id": "V83llrDtCbx6"
      },
      "source": [
        "*(ii) Para cada modelo selecionado, criar um plano passo-a-passo para sua implementação e integração aos processos da organização;*"
      ]
    },
    {
      "cell_type": "markdown",
      "metadata": {
        "id": "Kuyq1IWWCg-6"
      },
      "source": [
        "xxx"
      ]
    },
    {
      "cell_type": "markdown",
      "metadata": {
        "id": "9y-jHsETChn2"
      },
      "source": [
        "*(iii) Para cada achado, criar um plano de disseminação junto aos tomadores de decisão concernentes;*"
      ]
    },
    {
      "cell_type": "markdown",
      "metadata": {
        "id": "he763fU6Cmk4"
      },
      "source": [
        "xxx"
      ]
    },
    {
      "cell_type": "markdown",
      "metadata": {
        "id": "bo2YAl08CnBw"
      },
      "source": [
        "*(iv) Caso necessário, identificar alternativas de implementação do(s) modelo(s) e achados;*"
      ]
    },
    {
      "cell_type": "markdown",
      "metadata": {
        "id": "rPo1ybjpCpCd"
      },
      "source": [
        "xxx"
      ]
    },
    {
      "cell_type": "markdown",
      "metadata": {
        "id": "iSR1l4y8Cpb3"
      },
      "source": [
        "*(v) Especificar como a utilização dos resultados implementados será monitorada, incluindo a definição de critérios para se identificar a sua obsolescência;*"
      ]
    },
    {
      "cell_type": "markdown",
      "metadata": {
        "id": "CID-ADxlCtEh"
      },
      "source": [
        "xxx"
      ]
    },
    {
      "cell_type": "markdown",
      "metadata": {
        "id": "baVqmH7pCtkx"
      },
      "source": [
        "*(vi) Elaborar plano de contingência para possíveis problemas na implementação.*"
      ]
    },
    {
      "cell_type": "markdown",
      "metadata": {
        "id": "bMziLRiOCxdM"
      },
      "source": [
        "xxx"
      ]
    },
    {
      "cell_type": "markdown",
      "metadata": {
        "id": "tAjx_MLOC27-"
      },
      "source": [
        "# **6.2 Planejando o monitoramento e a manutenção**\n",
        "\n",
        "[***Nota***: É aqui que a boa documentação se torna crítica para avaliar o objetivo comercial de cada projeto de mineração de dados]"
      ]
    },
    {
      "cell_type": "markdown",
      "metadata": {
        "id": "_wZQfFMlDBnm"
      },
      "source": [
        "*(i) Verificar para cada modelo ou achado que fatores ou influências precisam ser rastreados;*"
      ]
    },
    {
      "cell_type": "markdown",
      "metadata": {
        "id": "cClhY3i1DFL-"
      },
      "source": [
        "xxx"
      ]
    },
    {
      "cell_type": "markdown",
      "metadata": {
        "id": "rOmqbxgsDF1a"
      },
      "source": [
        "*(ii) Especificar como a validade e a precisão de cada modelo podem ser medidas e monitoradas;*"
      ]
    },
    {
      "cell_type": "markdown",
      "metadata": {
        "id": "BhZd44EBDLbb"
      },
      "source": [
        "xxx"
      ]
    },
    {
      "cell_type": "markdown",
      "metadata": {
        "id": "oyhyn5yVDL1q"
      },
      "source": [
        "*(iii) Definir em que condições o(s) modelo(s) será(ão) considerado(s) obsoleto(s);*"
      ]
    },
    {
      "cell_type": "markdown",
      "metadata": {
        "id": "2yMelxneDN3E"
      },
      "source": [
        "xxx"
      ]
    },
    {
      "cell_type": "markdown",
      "metadata": {
        "id": "Mq-kFXHBDPOG"
      },
      "source": [
        "*(iv) Definir as medidas a serem tomadas quando da obsolescência do(s) modelo(s);*"
      ]
    },
    {
      "cell_type": "markdown",
      "metadata": {
        "id": "L0o7D7aKDW-9"
      },
      "source": [
        "xxx"
      ]
    },
    {
      "cell_type": "markdown",
      "metadata": {
        "id": "lYG2QTSIDXUi"
      },
      "source": [
        "*(v) Verificar se o(s) modelo(s) considerado(s) obsoleto(s) pode(m) ser usado(s) para problemas de negócios semelhantes.*"
      ]
    },
    {
      "cell_type": "markdown",
      "metadata": {
        "id": "VJlnLLajDXx-"
      },
      "source": [
        "xxx"
      ]
    },
    {
      "cell_type": "markdown",
      "metadata": {
        "id": "kwxuTKqrDavT"
      },
      "source": [
        "# **6.3\tProduzindo o relatório final**"
      ]
    },
    {
      "cell_type": "markdown",
      "metadata": {
        "id": "ZXBskI7cDYTS"
      },
      "source": [
        "*(i) Elaborar uma descrição completa do problema de negócio inicial;*"
      ]
    },
    {
      "cell_type": "markdown",
      "metadata": {
        "id": "NOU1W7x7DpaX"
      },
      "source": [
        "xxx"
      ]
    },
    {
      "cell_type": "markdown",
      "metadata": {
        "id": "0xsQmggfDpyY"
      },
      "source": [
        "*(ii) Descrever o processo desenvolvido para a mineração de dados;*"
      ]
    },
    {
      "cell_type": "markdown",
      "metadata": {
        "id": "ztaGOKn1Dyqf"
      },
      "source": [
        "xxx"
      ]
    },
    {
      "cell_type": "markdown",
      "metadata": {
        "id": "CLoMXe9HDzHv"
      },
      "source": [
        "*(iii) Detalhar os custos e os benefícios do projeto;*"
      ]
    },
    {
      "cell_type": "markdown",
      "metadata": {
        "id": "5IiLJQ7YD3hC"
      },
      "source": [
        "xxx"
      ]
    },
    {
      "cell_type": "markdown",
      "metadata": {
        "id": "8FSjEg82D4o3"
      },
      "source": [
        "*(iv) Descrever quaisquer desvios com relação ao plano original do projeto;*"
      ]
    },
    {
      "cell_type": "markdown",
      "metadata": {
        "id": "jaLqgzLzEApk"
      },
      "source": [
        "xxx"
      ]
    },
    {
      "cell_type": "markdown",
      "metadata": {
        "id": "Wg_JqhiqEBCN"
      },
      "source": [
        "*(v) Elaborar um sumário dos resultados da mineração (modelos e achados);*"
      ]
    },
    {
      "cell_type": "markdown",
      "metadata": {
        "id": "5fvtCsrPEDDN"
      },
      "source": [
        "xxx"
      ]
    },
    {
      "cell_type": "markdown",
      "metadata": {
        "id": "nCZJ_l7RED6l"
      },
      "source": [
        "*(vi) Elaborar uma descrição geral do plano de implementação;*"
      ]
    },
    {
      "cell_type": "markdown",
      "metadata": {
        "id": "Gb8CHljEEHr-"
      },
      "source": [
        "xxx"
      ]
    },
    {
      "cell_type": "markdown",
      "metadata": {
        "id": "6dDHmO6bEIDa"
      },
      "source": [
        "*(vii) Elaborar recomendações para trabalhos futuros de mineração de dados.*"
      ]
    },
    {
      "cell_type": "markdown",
      "metadata": {
        "id": "gPAhhl-0EOxh"
      },
      "source": [
        "xxx"
      ]
    },
    {
      "cell_type": "markdown",
      "metadata": {
        "id": "QmOsPF7bEPXA"
      },
      "source": [
        "# **6.4\tRevisando o projeto**"
      ]
    },
    {
      "cell_type": "markdown",
      "metadata": {
        "id": "uutX-qYeEWZ_"
      },
      "source": [
        "*(i) Detalhar suas impressões gerais sobre o projeto;*"
      ]
    },
    {
      "cell_type": "markdown",
      "metadata": {
        "id": "VPEOfU1KEYhg"
      },
      "source": [
        "xxx"
      ]
    },
    {
      "cell_type": "markdown",
      "metadata": {
        "id": "zXulll5oEY8D"
      },
      "source": [
        "*(ii) Detalhar o que foi aprendido com o projeto, tanto em relação à mineração de dados quanto em relação aos dados disponíveis;*"
      ]
    },
    {
      "cell_type": "markdown",
      "metadata": {
        "id": "70966j0dEfBY"
      },
      "source": [
        "xxx"
      ]
    },
    {
      "cell_type": "markdown",
      "metadata": {
        "id": "MgEuX1pXEfdj"
      },
      "source": [
        "*(iii) Descrever as partes do projeto que merecem destaque dos pontos de vista positivo e negativo.*"
      ]
    },
    {
      "cell_type": "markdown",
      "metadata": {
        "id": "XbFtjBwdEijN"
      },
      "source": [
        "xxx"
      ]
    },
    {
      "cell_type": "markdown",
      "metadata": {
        "id": "RpRM7J0wEi99"
      },
      "source": [
        "# **Síntese da implementação**"
      ]
    },
    {
      "cell_type": "markdown",
      "metadata": {
        "id": "OibTU_juxmwv"
      },
      "source": [
        "xxx\n"
      ]
    }
  ]
}