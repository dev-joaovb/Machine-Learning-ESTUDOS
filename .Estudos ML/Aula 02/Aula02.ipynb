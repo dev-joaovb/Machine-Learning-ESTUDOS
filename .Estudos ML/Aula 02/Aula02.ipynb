{
 "cells": [
  {
   "cell_type": "code",
   "execution_count": 4,
   "metadata": {},
   "outputs": [],
   "source": [
    "import numpy as np\n",
    "import pandas as pd\n",
    "\n",
    "DataFrame = pd.read_csv('admission.csv', delimiter=';')\n",
    "#Base de dados independentes\n",
    "X = DataFrame.iloc[:, :-1].values\n",
    "from sklearn.impute import SimpleImputer\n",
    "imputer = SimpleImputer(missing_values=np.nan, strategy='median')\n",
    "imputer = imputer.fit_transform(X[:,1:])"
   ]
  },
  {
   "cell_type": "code",
   "execution_count": 5,
   "metadata": {},
   "outputs": [
    {
     "name": "stdout",
     "output_type": "stream",
     "text": [
      "[[6 337 118 4 4.5 4.5 9.65 1]\n",
      " [0 324 107 4 4.0 4.5 8.87 1]\n",
      " [5 316 104 3 3.0 3.5 8.0 1]\n",
      " [1 322 110 3 3.5 2.5 8.67 1]\n",
      " [8 314 103 2 2.0 3.0 8.21 0]\n",
      " [4 330 115 5 4.5 3.0 9.34 1]\n",
      " [3 321 109 3 3.0 4.0 8.2 1]\n",
      " [2 308 101 2 3.0 4.0 7.9 0]\n",
      " [7 302 102 1 2.0 1.5 8.0 0]]\n"
     ]
    }
   ],
   "source": [
    "#Base de dados dependentes\n",
    "Y = DataFrame.iloc[:,-1].values\n",
    "\n",
    "# Transformar nomes em números (LabelEncoder)\n",
    "from sklearn.preprocessing import LabelEncoder\n",
    "\n",
    "label_Encoder_X = LabelEncoder()\n",
    "X[:, 0] = label_Encoder_X.fit_transform(X[:, 0])\n",
    "\n",
    "print(X)"
   ]
  },
  {
   "cell_type": "code",
   "execution_count": 6,
   "metadata": {},
   "outputs": [],
   "source": [
    "#Jogar coluna fora\n",
    "X = X[:, 1:]\n",
    "#One hot encoding\n",
    "D = pd.get_dummies(X[:, 0])\n",
    "X = np.insert(X, 0, D.values, axis=1)"
   ]
  },
  {
   "cell_type": "code",
   "execution_count": 7,
   "metadata": {},
   "outputs": [
    {
     "name": "stdout",
     "output_type": "stream",
     "text": [
      "[[False False False False False False False False True 337 118 4 4.5 4.5\n",
      "  9.65 1]\n",
      " [False False False False False False False True False 324 107 4 4.0 4.5\n",
      "  8.87 1]\n",
      " [False False False False True False False False False 316 104 3 3.0 3.5\n",
      "  8.0 1]\n",
      " [False False True False False False False False False 322 110 3 3.5 2.5\n",
      "  8.67 1]\n",
      " [False False False False False False True False False 314 103 2 2.0 3.0\n",
      "  8.21 0]\n",
      " [False False False True False False False False False 330 115 5 4.5 3.0\n",
      "  9.34 1]\n",
      " [False True False False False False False False False 321 109 3 3.0 4.0\n",
      "  8.2 1]\n",
      " [False False False False False True False False False 308 101 2 3.0 4.0\n",
      "  7.9 0]\n",
      " [True False False False False False False False False 302 102 1 2.0 1.5\n",
      "  8.0 0]]\n"
     ]
    }
   ],
   "source": [
    "print(X)"
   ]
  },
  {
   "cell_type": "code",
   "execution_count": 8,
   "metadata": {},
   "outputs": [],
   "source": [
    "from sklearn.model_selection import  train_test_split\n",
    "X_Train, X_Test, Y_Train, Y_Test = train_test_split(X, Y, test_size = 0.2)\n",
    "\n",
    "# Valores entre 10% e 20% é o padrão"
   ]
  },
  {
   "cell_type": "code",
   "execution_count": 9,
   "metadata": {},
   "outputs": [
    {
     "name": "stdout",
     "output_type": "stream",
     "text": [
      "[[False False False False True False False False False 316 104 3 3.0 3.5\n",
      "  8.0 1]\n",
      " [False False False False False False False False True 337 118 4 4.5 4.5\n",
      "  9.65 1]\n",
      " [False False True False False False False False False 322 110 3 3.5 2.5\n",
      "  8.67 1]\n",
      " [False True False False False False False False False 321 109 3 3.0 4.0\n",
      "  8.2 1]\n",
      " [False False False False False False False True False 324 107 4 4.0 4.5\n",
      "  8.87 1]\n",
      " [True False False False False False False False False 302 102 1 2.0 1.5\n",
      "  8.0 0]\n",
      " [False False False True False False False False False 330 115 5 4.5 3.0\n",
      "  9.34 1]]\n"
     ]
    }
   ],
   "source": [
    "print(X_Train)"
   ]
  },
  {
   "attachments": {},
   "cell_type": "markdown",
   "metadata": {},
   "source": [
    "Computando normalização de dados...."
   ]
  },
  {
   "cell_type": "code",
   "execution_count": 10,
   "metadata": {},
   "outputs": [],
   "source": [
    "from sklearn.preprocessing import StandardScaler\n",
    "scale_X = StandardScaler()\n",
    "X_Train = scale_X.fit_transform(X_Train)\n",
    "X_Test = scale_X.fit_transform(X_Test)"
   ]
  },
  {
   "cell_type": "code",
   "execution_count": 11,
   "metadata": {},
   "outputs": [
    {
     "name": "stdout",
     "output_type": "stream",
     "text": [
      "[[-0.40824829 -0.40824829 -0.40824829 -0.40824829  2.44948974  0.\n",
      "   0.         -0.40824829 -0.40824829 -0.55978285 -1.00036543 -0.24618298\n",
      "  -0.59160798  0.1393466  -1.11566534  0.40824829]\n",
      " [-0.40824829 -0.40824829 -0.40824829 -0.40824829 -0.40824829  0.\n",
      "   0.         -0.40824829  2.44948974  1.49741911  1.64925111  0.61545745\n",
      "   1.18321596  1.11477282  1.60863374  0.40824829]\n",
      " [-0.40824829 -0.40824829  2.44948974 -0.40824829 -0.40824829  0.\n",
      "   0.         -0.40824829 -0.40824829  0.02798914  0.13518452 -0.24618298\n",
      "   0.         -0.83607962 -0.0094348   0.40824829]\n",
      " [-0.40824829  2.44948974 -0.40824829 -0.40824829 -0.40824829  0.\n",
      "   0.         -0.40824829 -0.40824829 -0.06997286 -0.05407381 -0.24618298\n",
      "  -0.59160798  0.62705971 -0.78544727  0.40824829]\n",
      " [-0.40824829 -0.40824829 -0.40824829 -0.40824829 -0.40824829  0.\n",
      "   0.          2.44948974 -0.40824829  0.22391314 -0.43259046  0.61545745\n",
      "   0.59160798  1.11477282  0.32078327  0.40824829]\n",
      " [ 2.44948974 -0.40824829 -0.40824829 -0.40824829 -0.40824829  0.\n",
      "   0.         -0.40824829 -0.40824829 -1.93125082 -1.37888208 -1.96946386\n",
      "  -1.77482393 -1.81150584 -1.11566534 -2.44948974]\n",
      " [-0.40824829 -0.40824829 -0.40824829  2.44948974 -0.40824829  0.\n",
      "   0.         -0.40824829 -0.40824829  0.81168513  1.08147614  1.47709789\n",
      "   1.18321596 -0.34836651  1.09679573  0.40824829]]\n"
     ]
    }
   ],
   "source": [
    "print(X_Train)"
   ]
  }
 ],
 "metadata": {
  "kernelspec": {
   "display_name": "Python 3",
   "language": "python",
   "name": "python3"
  },
  "language_info": {
   "codemirror_mode": {
    "name": "ipython",
    "version": 3
   },
   "file_extension": ".py",
   "mimetype": "text/x-python",
   "name": "python",
   "nbconvert_exporter": "python",
   "pygments_lexer": "ipython3",
   "version": "3.11.4"
  },
  "orig_nbformat": 4
 },
 "nbformat": 4,
 "nbformat_minor": 2
}
